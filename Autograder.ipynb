{
 "cells": [
  {
   "cell_type": "markdown",
   "metadata": {
    "id": "aCDpAf4EWQhO"
   },
   "source": [
    "## **Student's Autograder**\n",
    "This is a project to calculate quiz and term scores from q&a pdf and response pdf."
   ]
  },
  {
   "cell_type": "markdown",
   "metadata": {},
   "source": [
    "Whats left: \n",
    "\n",
    "* Editing pdf"
   ]
  },
  {
   "cell_type": "markdown",
   "metadata": {
    "id": "6V2_XMBIDFin"
   },
   "source": [
    "### Importing the required libraries "
   ]
  },
  {
   "cell_type": "code",
   "execution_count": 5,
   "metadata": {
    "id": "AJWhrjFBs-wV"
   },
   "outputs": [],
   "source": [
    "import os\n",
    "import pandas as pd\n",
    "import numpy as np\n",
    "import tabula\n",
    "from ipywidgets import widgets\n",
    "from PyPDF2 import PdfFileReader, PdfFileWriter\n",
    "from PyPDF2.generic import DecodedStreamObject, EncodedStreamObject,ArrayObject"
   ]
  },
  {
   "cell_type": "code",
   "execution_count": 6,
   "metadata": {},
   "outputs": [
    {
     "data": {
      "text/plain": [
       "'C:\\\\Users\\\\506761\\\\OneDrive - Tata Steel Limited\\\\Documents\\\\Python Scripts'"
      ]
     },
     "execution_count": 6,
     "metadata": {},
     "output_type": "execute_result"
    }
   ],
   "source": [
    "#debugging for notebooks current directory for reading files later.\n",
    "import os\n",
    "os.getcwd()"
   ]
  },
  {
   "cell_type": "markdown",
   "metadata": {
    "id": "wE0xdNo6DSQE"
   },
   "source": [
    "### Reading pdfs"
   ]
  },
  {
   "cell_type": "code",
   "execution_count": 7,
   "metadata": {},
   "outputs": [
    {
     "data": {
      "application/vnd.jupyter.widget-view+json": {
       "model_id": "8a28512d79744f2c9e867863f9f4d249",
       "version_major": 2,
       "version_minor": 0
      },
      "text/plain": [
       "Text(value='', description='Response pdf:', placeholder='Enter filename with extension')"
      ]
     },
     "metadata": {},
     "output_type": "display_data"
    },
    {
     "data": {
      "application/vnd.jupyter.widget-view+json": {
       "model_id": "8dd7efd8929f4d888e3c652c5aac6f5a",
       "version_major": 2,
       "version_minor": 0
      },
      "text/plain": [
       "Text(value='', description='Q&A pdf:', placeholder='Enter filename with extension')"
      ]
     },
     "metadata": {},
     "output_type": "display_data"
    }
   ],
   "source": [
    "resp_pdf = widgets.Text(\n",
    " placeholder='Enter filename with extension',\n",
    " description='Response pdf:'\n",
    " )\n",
    "qa_pdf = widgets.Text(\n",
    " placeholder='Enter filename with extension',\n",
    " description='Q&A pdf:'\n",
    " )\n",
    "# POD22S1C31570014.pdf\n",
    "# POD22S1C31590017.pdf\n",
    "# POD22S1C11550029.pdf\n",
    "# POD22S1C11320038.pdf\n",
    "# IIT M DIPLOMA QUIZ1 EXAM QPF1.pdf\n",
    "# IIT M DIPLOMA QUIZ2 EXAM QPF1.pdf\n",
    "# IIT M QUIZ 1 FOUNDATION DAD DIPLOMA QPD1.pdf\n",
    "display(resp_pdf,qa_pdf)"
   ]
  },
  {
   "cell_type": "code",
   "execution_count": 8,
   "metadata": {
    "colab": {
     "base_uri": "https://localhost:8080/"
    },
    "executionInfo": {
     "elapsed": 68881,
     "status": "ok",
     "timestamp": 1660199975340,
     "user": {
      "displayName": "Mahesh Balan U",
      "userId": "03222065794003590393"
     },
     "user_tz": -330
    },
    "id": "dPLWR7pj20Be",
    "outputId": "b5dab9a7-ee46-4620-c547-1e4c84deea3b"
   },
   "outputs": [],
   "source": [
    "df = tabula.read_pdf(resp_pdf.value,pages='all',multiple_tables=False)\n",
    "filename=qa_pdf.value"
   ]
  },
  {
   "cell_type": "code",
   "execution_count": 9,
   "metadata": {},
   "outputs": [
    {
     "data": {
      "text/html": [
       "<div>\n",
       "<style scoped>\n",
       "    .dataframe tbody tr th:only-of-type {\n",
       "        vertical-align: middle;\n",
       "    }\n",
       "\n",
       "    .dataframe tbody tr th {\n",
       "        vertical-align: top;\n",
       "    }\n",
       "\n",
       "    .dataframe thead th {\n",
       "        text-align: right;\n",
       "    }\n",
       "</style>\n",
       "<table border=\"1\" class=\"dataframe\">\n",
       "  <thead>\n",
       "    <tr style=\"text-align: right;\">\n",
       "      <th></th>\n",
       "      <th>Name</th>\n",
       "      <th>SHEKHAR MOHANTY HEMANT</th>\n",
       "    </tr>\n",
       "  </thead>\n",
       "  <tbody>\n",
       "    <tr>\n",
       "      <th>255</th>\n",
       "      <td>640653351773</td>\n",
       "      <td>Unanswered</td>\n",
       "    </tr>\n",
       "    <tr>\n",
       "      <th>256</th>\n",
       "      <td>640653351768</td>\n",
       "      <td>Unanswered</td>\n",
       "    </tr>\n",
       "    <tr>\n",
       "      <th>257</th>\n",
       "      <td>640653351769</td>\n",
       "      <td>Unanswered</td>\n",
       "    </tr>\n",
       "    <tr>\n",
       "      <th>258</th>\n",
       "      <td>640653351775</td>\n",
       "      <td>Unanswered</td>\n",
       "    </tr>\n",
       "    <tr>\n",
       "      <th>259</th>\n",
       "      <td>640653351776</td>\n",
       "      <td>Unanswered</td>\n",
       "    </tr>\n",
       "  </tbody>\n",
       "</table>\n",
       "</div>"
      ],
      "text/plain": [
       "             Name SHEKHAR MOHANTY HEMANT\n",
       "255  640653351773             Unanswered\n",
       "256  640653351768             Unanswered\n",
       "257  640653351769             Unanswered\n",
       "258  640653351775             Unanswered\n",
       "259  640653351776             Unanswered"
      ]
     },
     "execution_count": 9,
     "metadata": {},
     "output_type": "execute_result"
    }
   ],
   "source": [
    "df[0].tail()"
   ]
  },
  {
   "cell_type": "markdown",
   "metadata": {},
   "source": [
    "### Variables initialization"
   ]
  },
  {
   "cell_type": "code",
   "execution_count": 10,
   "metadata": {},
   "outputs": [],
   "source": [
    "my_question=\"Question ID\"\n",
    "my_answer=\"Options Selected\"\n",
    "unanswered=\"Unanswered\"\n",
    "file_qid=\"Question Id\""
   ]
  },
  {
   "cell_type": "code",
   "execution_count": 11,
   "metadata": {},
   "outputs": [
    {
     "data": {
      "text/plain": [
       "array(['Question ID', 'Options Selected'], dtype=object)"
      ]
     },
     "execution_count": 11,
     "metadata": {},
     "output_type": "execute_result"
    }
   ],
   "source": [
    "df[0].iloc[4].values"
   ]
  },
  {
   "cell_type": "code",
   "execution_count": 12,
   "metadata": {
    "colab": {
     "base_uri": "https://localhost:8080/"
    },
    "executionInfo": {
     "elapsed": 24995,
     "status": "ok",
     "timestamp": 1660199641488,
     "user": {
      "displayName": "Mahesh Balan U",
      "userId": "03222065794003590393"
     },
     "user_tz": -330
    },
    "id": "UbiN5z_FtJOX",
    "outputId": "f0571eb1-05a4-47e7-e7e1-50113798ee86"
   },
   "outputs": [
    {
     "data": {
      "text/html": [
       "<div>\n",
       "<style scoped>\n",
       "    .dataframe tbody tr th:only-of-type {\n",
       "        vertical-align: middle;\n",
       "    }\n",
       "\n",
       "    .dataframe tbody tr th {\n",
       "        vertical-align: top;\n",
       "    }\n",
       "\n",
       "    .dataframe thead th {\n",
       "        text-align: right;\n",
       "    }\n",
       "</style>\n",
       "<table border=\"1\" class=\"dataframe\">\n",
       "  <thead>\n",
       "    <tr style=\"text-align: right;\">\n",
       "      <th></th>\n",
       "      <th>Name</th>\n",
       "      <th>SHEKHAR MOHANTY HEMANT</th>\n",
       "    </tr>\n",
       "  </thead>\n",
       "  <tbody>\n",
       "    <tr>\n",
       "      <th>0</th>\n",
       "      <td>QP Set</td>\n",
       "      <td>2022 July: IIT M DIPLOMA QUIZ2 EXAM QPF1</td>\n",
       "    </tr>\n",
       "    <tr>\n",
       "      <th>1</th>\n",
       "      <td>Test Center Name</td>\n",
       "      <td>iON Digital Zone iDZ Jamshedpur</td>\n",
       "    </tr>\n",
       "    <tr>\n",
       "      <th>2</th>\n",
       "      <td>Shift</td>\n",
       "      <td>AN</td>\n",
       "    </tr>\n",
       "    <tr>\n",
       "      <th>3</th>\n",
       "      <td>Roll No</td>\n",
       "      <td>POD22S1C31590017</td>\n",
       "    </tr>\n",
       "    <tr>\n",
       "      <th>4</th>\n",
       "      <td>Question ID</td>\n",
       "      <td>Options Selected</td>\n",
       "    </tr>\n",
       "  </tbody>\n",
       "</table>\n",
       "</div>"
      ],
      "text/plain": [
       "               Name                    SHEKHAR MOHANTY HEMANT\n",
       "0            QP Set  2022 July: IIT M DIPLOMA QUIZ2 EXAM QPF1\n",
       "1  Test Center Name           iON Digital Zone iDZ Jamshedpur\n",
       "2             Shift                                        AN\n",
       "3           Roll No                          POD22S1C31590017\n",
       "4       Question ID                          Options Selected"
      ]
     },
     "execution_count": 12,
     "metadata": {},
     "output_type": "execute_result"
    }
   ],
   "source": [
    "df[0].head()"
   ]
  },
  {
   "cell_type": "code",
   "execution_count": 13,
   "metadata": {
    "colab": {
     "base_uri": "https://localhost:8080/"
    },
    "executionInfo": {
     "elapsed": 946,
     "status": "ok",
     "timestamp": 1655457650719,
     "user": {
      "displayName": "Mahesh Balan U",
      "userId": "03222065794003590393"
     },
     "user_tz": -330
    },
    "id": "cQsX_WoI9tc9",
    "outputId": "b105b3b2-5551-4c61-cd2a-38eeae6de652"
   },
   "outputs": [],
   "source": [
    "df1=df[0].replace(unanswered,np.nan,regex=True)"
   ]
  },
  {
   "cell_type": "markdown",
   "metadata": {
    "id": "4E6nPj3HWpPu"
   },
   "source": [
    "Students response for exam dataframe"
   ]
  },
  {
   "cell_type": "code",
   "execution_count": 14,
   "metadata": {
    "colab": {
     "base_uri": "https://localhost:8080/"
    },
    "executionInfo": {
     "elapsed": 1052,
     "status": "ok",
     "timestamp": 1655457666437,
     "user": {
      "displayName": "Mahesh Balan U",
      "userId": "03222065794003590393"
     },
     "user_tz": -330
    },
    "id": "NnC5kExD9z2P",
    "outputId": "77a8edeb-45ce-4522-d427-b9ec8153d16b"
   },
   "outputs": [],
   "source": [
    "myans=df1.dropna()\n",
    "myans.columns=myans.iloc[4].values\n",
    "myans=myans[5:]"
   ]
  },
  {
   "cell_type": "code",
   "execution_count": 15,
   "metadata": {
    "colab": {
     "base_uri": "https://localhost:8080/"
    },
    "executionInfo": {
     "elapsed": 1052,
     "status": "ok",
     "timestamp": 1655457666437,
     "user": {
      "displayName": "Mahesh Balan U",
      "userId": "03222065794003590393"
     },
     "user_tz": -330
    },
    "id": "NnC5kExD9z2P",
    "outputId": "77a8edeb-45ce-4522-d427-b9ec8153d16b"
   },
   "outputs": [
    {
     "name": "stdout",
     "output_type": "stream",
     "text": [
      "42\n"
     ]
    },
    {
     "data": {
      "text/html": [
       "<div>\n",
       "<style scoped>\n",
       "    .dataframe tbody tr th:only-of-type {\n",
       "        vertical-align: middle;\n",
       "    }\n",
       "\n",
       "    .dataframe tbody tr th {\n",
       "        vertical-align: top;\n",
       "    }\n",
       "\n",
       "    .dataframe thead th {\n",
       "        text-align: right;\n",
       "    }\n",
       "</style>\n",
       "<table border=\"1\" class=\"dataframe\">\n",
       "  <thead>\n",
       "    <tr style=\"text-align: right;\">\n",
       "      <th></th>\n",
       "      <th>Question ID</th>\n",
       "      <th>Options Selected</th>\n",
       "    </tr>\n",
       "  </thead>\n",
       "  <tbody>\n",
       "    <tr>\n",
       "      <th>235</th>\n",
       "      <td>640653351751</td>\n",
       "      <td>6406531167331,6406531167334</td>\n",
       "    </tr>\n",
       "    <tr>\n",
       "      <th>234</th>\n",
       "      <td>640653351752</td>\n",
       "      <td>6406531167338</td>\n",
       "    </tr>\n",
       "    <tr>\n",
       "      <th>239</th>\n",
       "      <td>640653351754</td>\n",
       "      <td>80</td>\n",
       "    </tr>\n",
       "    <tr>\n",
       "      <th>240</th>\n",
       "      <td>640653351755</td>\n",
       "      <td>90</td>\n",
       "    </tr>\n",
       "    <tr>\n",
       "      <th>241</th>\n",
       "      <td>640653351756</td>\n",
       "      <td>10</td>\n",
       "    </tr>\n",
       "  </tbody>\n",
       "</table>\n",
       "</div>"
      ],
      "text/plain": [
       "      Question ID             Options Selected\n",
       "235  640653351751  6406531167331,6406531167334\n",
       "234  640653351752                6406531167338\n",
       "239  640653351754                           80\n",
       "240  640653351755                           90\n",
       "241  640653351756                           10"
      ]
     },
     "execution_count": 15,
     "metadata": {},
     "output_type": "execute_result"
    }
   ],
   "source": [
    "myans[my_question]=myans[my_question].apply(int)\n",
    "myans=myans.sort_values(my_question)\n",
    "print(len(myans))\n",
    "myans.tail()"
   ]
  },
  {
   "cell_type": "markdown",
   "metadata": {
    "colab": {
     "base_uri": "https://localhost:8080/"
    },
    "executionInfo": {
     "elapsed": 5,
     "status": "ok",
     "timestamp": 1655464208192,
     "user": {
      "displayName": "Mahesh Balan U",
      "userId": "03222065794003590393"
     },
     "user_tz": -330
    },
    "id": "WPzDcsX-Wwpf",
    "outputId": "3785d44b-c29c-4252-9688-1d6082f57551"
   },
   "source": [
    "### Useful functions"
   ]
  },
  {
   "cell_type": "code",
   "execution_count": 16,
   "metadata": {},
   "outputs": [],
   "source": [
    "def gentextarr(content):\n",
    "    \"\"\"\n",
    "    Returns an array of text block properties of pdf\n",
    "    Parameter:\n",
    "        content: string object of page content obtained by page.getContents().getData().decode() \n",
    "    \"\"\"\n",
    "    lines = content.splitlines()\n",
    "    result = []\n",
    "    in_text = False\n",
    "    for line in lines:\n",
    "        if line == \"BT\":\n",
    "            in_text = True\n",
    "            temp=[]\n",
    "\n",
    "        elif line == \"ET\":\n",
    "            in_text = False\n",
    "            result.append(temp)\n",
    "            temp=[]\n",
    "\n",
    "        elif in_text:\n",
    "            if line[-2:].lower()==\"tj\" or line[-2:].lower()==\"tf\" or line[-2:].lower()==\"rg\":\n",
    "                temp.append(line[:])\n",
    "    return result\n",
    "\n",
    "def gen_cmap(font,pg):\n",
    "    \"\"\"\n",
    "    Returns a character map dictionary of a pdf 'filename' page 'pg' and font \n",
    "    Parameter:\n",
    "     font: font key name in meta properties of pdf.\n",
    "     pg: int page number of pdf\n",
    "    \"\"\"\n",
    "    # pdf = PdfFileReader(filename)\n",
    "    # page = pdf.getPage(pg)\n",
    "    page=pg\n",
    "    temp=False\n",
    "    cmap={}\n",
    "    for i in (page.getObject()['/Resources']['/Font'][font]['/ToUnicode'].getObject().getData().decode().split('\\n')):\n",
    "        if \"endbfrange\" in i:\n",
    "            temp=False\n",
    "        if temp:\n",
    "            cmap[i[1:5]]=i[-5:-1]\n",
    "        if \"beginbfrange\" in i:\n",
    "            temp=True\n",
    "    return cmap\n",
    "\n",
    "def font_decoder(text,cmap):\n",
    "    \"\"\"\n",
    "    Returns decoded word from pdf text hex code. \n",
    "    \"\"\"\n",
    "\n",
    "    count=0\n",
    "    word=\"\"\n",
    "    temp=\"\"\n",
    "    for i in text:\n",
    "        count+=1\n",
    "        if count==4:\n",
    "            temp+=i\n",
    "            word+=chr(int(cmap.get(temp.lower(),temp.lower()),16))\n",
    "            temp=\"\"\n",
    "            count=0\n",
    "        else:\n",
    "            temp+=i\n",
    "    return word\n"
   ]
  },
  {
   "cell_type": "code",
   "execution_count": null,
   "metadata": {},
   "outputs": [],
   "source": []
  },
  {
   "cell_type": "markdown",
   "metadata": {},
   "source": [
    "## PDF Content"
   ]
  },
  {
   "cell_type": "code",
   "execution_count": 17,
   "metadata": {},
   "outputs": [],
   "source": [
    "\"\"\"\n",
    "This piece of code extracts question answer pdf text content as well as correct answer key.\n",
    "\"\"\"\n",
    "pdf = PdfFileReader(filename)\n",
    "sum=0\n",
    "df=[[file_qid,\"Correct Marks\",\"Answers\"]]\n",
    "m_bool=False\n",
    "marks=\"\"\n",
    "ans_bool=False\n",
    "ans=\"\"\n",
    "row=[]\n",
    "temp=[]\n",
    "s_head=[]\n",
    "temp_head=\"\"\n",
    "ishead=False\n",
    "for p in range(0,pdf.getNumPages()):\n",
    "    content=pdf.pages[p].getContents()\n",
    "    #a different type content\n",
    "    if type(content)==ArrayObject:\n",
    "        m=\"\"\n",
    "        for n in content:\n",
    "            m+=n.getObject().getData().decode()\n",
    "        content=m\n",
    "    elif type(content)==EncodedStreamObject or type(content)==DecodedStreamObject:\n",
    "        content=content.getData().decode()\n",
    "    for i in gentextarr(content):\n",
    "        text=\"\"\n",
    "        ans_bool=False\n",
    "        for j in i:\n",
    "            # getting character map for a font type\n",
    "            if j[-2:].lower()==\"tf\":\n",
    "                cmap=gen_cmap(j.split()[0],pdf.pages[p])\n",
    "                #checking for subject headings with font size =18\n",
    "                if j.split()[1]==\"18\":\n",
    "                    ishead=True\n",
    "            # checking green color as ind of correctness        \n",
    "            if j==\"0 0.50196 0 rg\" and len(row)>1:\n",
    "                ans_bool=True\n",
    "    \n",
    "            elif j[-2:].lower()==\"tj\":\n",
    "                text=font_decoder(j[1:-3],cmap)\n",
    "                if ishead:\n",
    "                    ishead=False\n",
    "                    temp_head=text\n",
    "                \n",
    "                if (not m_bool) and (not ans_bool):\n",
    "                    # checking for question id\n",
    "                    if str(file_qid) in text:\n",
    "                        if len(temp)>0:\n",
    "                            row.append(temp)\n",
    "                            df.append(row)\n",
    "                        row=[]\n",
    "                        temp=[]\n",
    "                        if text.split()[7].isnumeric():\n",
    "                            s_head.append(temp_head)\n",
    "                            row=[text.split()[7]]\n",
    "                            m_bool=True\n",
    "                    \n",
    "                # extracting marks\n",
    "                elif m_bool:\n",
    "                    if \"Correct Marks\" in text:\n",
    "                        # appending to heading list if marks is 0\n",
    "                        # if text.split()[-1]==\"0\":\n",
    "                        #     s_head.append(temp_head)\n",
    "                        if len(row)==1:\n",
    "                            row.append(text.split()[-1])\n",
    "                        m_bool=False\n",
    "                        \n",
    "                #extracting answer key\n",
    "                elif ans_bool:\n",
    "                    if text!=\" \":\n",
    "                        if len(text)>=13 and text[:13].isnumeric():\n",
    "                            temp.append(text[:13])\n",
    "                        elif len(text.split())==3 and \"to\" in text.split()[1]:\n",
    "                            t=text.split()\n",
    "                            temp=[float(t[0]),float(t[-1])]\n",
    "                        elif len(temp)==0:\n",
    "                            temp.append(text)\n",
    "if len(temp)>=1:\n",
    "    row.append(temp)\n",
    "    df.append(row)"
   ]
  },
  {
   "cell_type": "code",
   "execution_count": 18,
   "metadata": {},
   "outputs": [
    {
     "name": "stdout",
     "output_type": "stream",
     "text": [
      "261\n"
     ]
    },
    {
     "data": {
      "text/plain": [
       "['640653351495', '0', ['6406531166580']]"
      ]
     },
     "execution_count": 18,
     "metadata": {},
     "output_type": "execute_result"
    }
   ],
   "source": [
    "print(len(df))\n",
    "df[1]"
   ]
  },
  {
   "cell_type": "code",
   "execution_count": 19,
   "metadata": {},
   "outputs": [
    {
     "data": {
      "text/html": [
       "<div>\n",
       "<style scoped>\n",
       "    .dataframe tbody tr th:only-of-type {\n",
       "        vertical-align: middle;\n",
       "    }\n",
       "\n",
       "    .dataframe tbody tr th {\n",
       "        vertical-align: top;\n",
       "    }\n",
       "\n",
       "    .dataframe thead th {\n",
       "        text-align: right;\n",
       "    }\n",
       "</style>\n",
       "<table border=\"1\" class=\"dataframe\">\n",
       "  <thead>\n",
       "    <tr style=\"text-align: right;\">\n",
       "      <th></th>\n",
       "      <th>Question Id</th>\n",
       "      <th>Correct Marks</th>\n",
       "      <th>Answers</th>\n",
       "      <th>Subjects</th>\n",
       "    </tr>\n",
       "  </thead>\n",
       "  <tbody>\n",
       "    <tr>\n",
       "      <th>0</th>\n",
       "      <td>640653351495</td>\n",
       "      <td>0</td>\n",
       "      <td>[6406531166580]</td>\n",
       "      <td>Maths 2</td>\n",
       "    </tr>\n",
       "    <tr>\n",
       "      <th>1</th>\n",
       "      <td>640653351496</td>\n",
       "      <td>2</td>\n",
       "      <td>[6406531166582, 6406531166583]</td>\n",
       "      <td>Maths 2</td>\n",
       "    </tr>\n",
       "    <tr>\n",
       "      <th>6</th>\n",
       "      <td>640653351498</td>\n",
       "      <td>1</td>\n",
       "      <td>[0]</td>\n",
       "      <td>Maths 2</td>\n",
       "    </tr>\n",
       "    <tr>\n",
       "      <th>7</th>\n",
       "      <td>640653351499</td>\n",
       "      <td>1</td>\n",
       "      <td>[-4]</td>\n",
       "      <td>Maths 2</td>\n",
       "    </tr>\n",
       "    <tr>\n",
       "      <th>8</th>\n",
       "      <td>640653351500</td>\n",
       "      <td>1</td>\n",
       "      <td>[-2]</td>\n",
       "      <td>Maths 2</td>\n",
       "    </tr>\n",
       "  </tbody>\n",
       "</table>\n",
       "</div>"
      ],
      "text/plain": [
       "    Question Id Correct Marks                         Answers Subjects\n",
       "0  640653351495             0                 [6406531166580]  Maths 2\n",
       "1  640653351496             2  [6406531166582, 6406531166583]  Maths 2\n",
       "6  640653351498             1                             [0]  Maths 2\n",
       "7  640653351499             1                            [-4]  Maths 2\n",
       "8  640653351500             1                            [-2]  Maths 2"
      ]
     },
     "execution_count": 19,
     "metadata": {},
     "output_type": "execute_result"
    }
   ],
   "source": [
    "df2=pd.DataFrame(df[1:],columns=df[0])\n",
    "df2[file_qid]=df2[file_qid].apply(int)\n",
    "df2[\"Subjects\"]=np.array(s_head)\n",
    "df2=df2.sort_values([file_qid])\n",
    "df2.head()"
   ]
  },
  {
   "cell_type": "code",
   "execution_count": null,
   "metadata": {},
   "outputs": [],
   "source": []
  },
  {
   "cell_type": "code",
   "execution_count": 20,
   "metadata": {
    "tags": []
   },
   "outputs": [],
   "source": [
    "def evaluate(df2):\n",
    "    \n",
    "    #Multi option\n",
    "    df2['Score'] = df2.apply(lambda x: (len(set(x[\"My answer\"].split(\",\"))\\\n",
    "                                            .intersection(set(x[\"Answers\"])))/len(x[\"Answers\"]))*float(x['Correct Marks'])\\\n",
    "                             if type(x[\"Answers\"][0])==str and len(x[\"Answers\"][0])==13 and\\\n",
    "                                len(set(x[\"My answer\"].split(\",\")))<=len(set(x[\"Answers\"])) and\\\n",
    "                                set(x[\"My answer\"].split(\",\")).issubset(set(x[\"Answers\"]))\\\n",
    "                             else x[\"Score\"], axis=1)\n",
    "    #integer ranged\n",
    "    df2['Score'] = df2.apply(lambda x: float(x['Correct Marks'])\\\n",
    "                             if len(x[\"My answer\"])<13 and len(x[\"My answer\"])>0 and\\\n",
    "                                len(x['Answers'])>=1 and\\\n",
    "                                float(x['My answer']) >= float(x[\"Answers\"][0]) and\\\n",
    "                                float(x['My answer']) <= float(x[\"Answers\"][-1])\\\n",
    "                             else x[\"Score\"], axis=1)\n",
    "    return df2"
   ]
  },
  {
   "cell_type": "markdown",
   "metadata": {},
   "source": [
    "## Final score"
   ]
  },
  {
   "cell_type": "markdown",
   "metadata": {},
   "source": [
    "### Method 1: using index of 0 correct marks"
   ]
  },
  {
   "cell_type": "code",
   "execution_count": 21,
   "metadata": {},
   "outputs": [],
   "source": [
    "# s_index=df3[df3[\"Correct Marks\"]==\"0\"].index\n",
    "# s_index"
   ]
  },
  {
   "cell_type": "code",
   "execution_count": 22,
   "metadata": {},
   "outputs": [],
   "source": [
    "# subjects={}\n",
    "# for i in range(len(s_index)):\n",
    "#     if i==len(s_index)-1:\n",
    "#         subjects[df3[\"Subjects\"][s_index[i]]]=df3.iloc[s_index[i]:]\n",
    "#     else:\n",
    "#         subjects[df3[\"Subjects\"][s_index[i]]]=df3.iloc[s_index[i]:s_index[i+1]]\n",
    "# subjects.keys()"
   ]
  },
  {
   "cell_type": "code",
   "execution_count": 23,
   "metadata": {},
   "outputs": [],
   "source": [
    "# reports=[]\n",
    "# for i in subjects.values():\n",
    "#     print(i[\"Correct Marks\"].apply(float).values)\n",
    "#     reports.append([i[\"Subjects\"].unique()[0],i[\"Correct Marks\"].apply(float).values.sum(),i[\"Score\"].sum()])"
   ]
  },
  {
   "cell_type": "code",
   "execution_count": 24,
   "metadata": {},
   "outputs": [],
   "source": [
    "# for i in reports:\n",
    "#     print(i[0],\":\",i[2]/i[1]*100,\"%\")"
   ]
  },
  {
   "cell_type": "markdown",
   "metadata": {},
   "source": [
    "### Method 2: Using groupby function"
   ]
  },
  {
   "cell_type": "code",
   "execution_count": 25,
   "metadata": {},
   "outputs": [],
   "source": [
    "df3=df2.set_index('Question Id').combine_first(myans.set_index('Question ID'))\\\n",
    "       .reset_index().replace(np.NAN,\"\")\n",
    "df3.columns=[\"Question Id\",\"Answers\",\"Correct Marks\",\"My answer\",\"Subjects\" ]\n",
    "df3[\"Score\"]=np.zeros(df3.shape[0])\n",
    "df3=evaluate(df3)\n"
   ]
  },
  {
   "cell_type": "code",
   "execution_count": 26,
   "metadata": {},
   "outputs": [
    {
     "data": {
      "text/html": [
       "<div>\n",
       "<style scoped>\n",
       "    .dataframe tbody tr th:only-of-type {\n",
       "        vertical-align: middle;\n",
       "    }\n",
       "\n",
       "    .dataframe tbody tr th {\n",
       "        vertical-align: top;\n",
       "    }\n",
       "\n",
       "    .dataframe thead th {\n",
       "        text-align: right;\n",
       "    }\n",
       "</style>\n",
       "<table border=\"1\" class=\"dataframe\">\n",
       "  <thead>\n",
       "    <tr style=\"text-align: right;\">\n",
       "      <th></th>\n",
       "      <th>Question Id</th>\n",
       "      <th>Answers</th>\n",
       "      <th>Correct Marks</th>\n",
       "      <th>My answer</th>\n",
       "      <th>Subjects</th>\n",
       "      <th>Score</th>\n",
       "    </tr>\n",
       "  </thead>\n",
       "  <tbody>\n",
       "    <tr>\n",
       "      <th>129</th>\n",
       "      <td>640653351638</td>\n",
       "      <td>[6406531166957]</td>\n",
       "      <td>3</td>\n",
       "      <td>6406531166957</td>\n",
       "      <td>Java</td>\n",
       "      <td>3.0</td>\n",
       "    </tr>\n",
       "    <tr>\n",
       "      <th>130</th>\n",
       "      <td>640653351639</td>\n",
       "      <td>[6406531166963]</td>\n",
       "      <td>3</td>\n",
       "      <td>6406531166963</td>\n",
       "      <td>Java</td>\n",
       "      <td>3.0</td>\n",
       "    </tr>\n",
       "    <tr>\n",
       "      <th>131</th>\n",
       "      <td>640653351640</td>\n",
       "      <td>[6406531166964, 6406531166966]</td>\n",
       "      <td>4</td>\n",
       "      <td>6406531166964,6406531166966</td>\n",
       "      <td>Java</td>\n",
       "      <td>4.0</td>\n",
       "    </tr>\n",
       "    <tr>\n",
       "      <th>132</th>\n",
       "      <td>640653351641</td>\n",
       "      <td>[6406531166970]</td>\n",
       "      <td>3</td>\n",
       "      <td>6406531166970</td>\n",
       "      <td>Java</td>\n",
       "      <td>3.0</td>\n",
       "    </tr>\n",
       "    <tr>\n",
       "      <th>133</th>\n",
       "      <td>640653351642</td>\n",
       "      <td>[6406531166972, 6406531166973]</td>\n",
       "      <td>4</td>\n",
       "      <td>6406531166972,6406531166973</td>\n",
       "      <td>Java</td>\n",
       "      <td>4.0</td>\n",
       "    </tr>\n",
       "    <tr>\n",
       "      <th>135</th>\n",
       "      <td>640653351644</td>\n",
       "      <td>[6406531166983]</td>\n",
       "      <td>3</td>\n",
       "      <td>6406531166983</td>\n",
       "      <td>Java</td>\n",
       "      <td>3.0</td>\n",
       "    </tr>\n",
       "    <tr>\n",
       "      <th>137</th>\n",
       "      <td>640653351646</td>\n",
       "      <td>[6406531166989]</td>\n",
       "      <td>3</td>\n",
       "      <td>6406531166989</td>\n",
       "      <td>Java</td>\n",
       "      <td>3.0</td>\n",
       "    </tr>\n",
       "    <tr>\n",
       "      <th>138</th>\n",
       "      <td>640653351647</td>\n",
       "      <td>[6406531166994]</td>\n",
       "      <td>3</td>\n",
       "      <td>6406531166994</td>\n",
       "      <td>Java</td>\n",
       "      <td>3.0</td>\n",
       "    </tr>\n",
       "    <tr>\n",
       "      <th>139</th>\n",
       "      <td>640653351648</td>\n",
       "      <td>[6406531166997]</td>\n",
       "      <td>3</td>\n",
       "      <td>6406531166997</td>\n",
       "      <td>Java</td>\n",
       "      <td>3.0</td>\n",
       "    </tr>\n",
       "    <tr>\n",
       "      <th>141</th>\n",
       "      <td>640653351650</td>\n",
       "      <td>[6406531167005, 6406531167007]</td>\n",
       "      <td>4</td>\n",
       "      <td>6406531167005,6406531167007</td>\n",
       "      <td>Java</td>\n",
       "      <td>4.0</td>\n",
       "    </tr>\n",
       "    <tr>\n",
       "      <th>142</th>\n",
       "      <td>640653351651</td>\n",
       "      <td>[6406531167010]</td>\n",
       "      <td>3</td>\n",
       "      <td>6406531167010</td>\n",
       "      <td>Java</td>\n",
       "      <td>3.0</td>\n",
       "    </tr>\n",
       "    <tr>\n",
       "      <th>143</th>\n",
       "      <td>640653351652</td>\n",
       "      <td>[6406531167015]</td>\n",
       "      <td>3</td>\n",
       "      <td>6406531167015</td>\n",
       "      <td>Java</td>\n",
       "      <td>3.0</td>\n",
       "    </tr>\n",
       "    <tr>\n",
       "      <th>146</th>\n",
       "      <td>640653351655</td>\n",
       "      <td>[6406531167026]</td>\n",
       "      <td>4.5</td>\n",
       "      <td>6406531167026</td>\n",
       "      <td>AppDev-2</td>\n",
       "      <td>4.5</td>\n",
       "    </tr>\n",
       "    <tr>\n",
       "      <th>147</th>\n",
       "      <td>640653351656</td>\n",
       "      <td>[6406531167029]</td>\n",
       "      <td>3</td>\n",
       "      <td>6406531167029</td>\n",
       "      <td>AppDev-2</td>\n",
       "      <td>3.0</td>\n",
       "    </tr>\n",
       "    <tr>\n",
       "      <th>150</th>\n",
       "      <td>640653351659</td>\n",
       "      <td>[6406531167040, 6406531167041]</td>\n",
       "      <td>2</td>\n",
       "      <td>6406531167040,6406531167041</td>\n",
       "      <td>AppDev-2</td>\n",
       "      <td>2.0</td>\n",
       "    </tr>\n",
       "    <tr>\n",
       "      <th>153</th>\n",
       "      <td>640653351662</td>\n",
       "      <td>[6406531167052, 6406531167054]</td>\n",
       "      <td>3</td>\n",
       "      <td>6406531167052</td>\n",
       "      <td>AppDev-2</td>\n",
       "      <td>1.5</td>\n",
       "    </tr>\n",
       "    <tr>\n",
       "      <th>156</th>\n",
       "      <td>640653351665</td>\n",
       "      <td>[6406531167066]</td>\n",
       "      <td>4.5</td>\n",
       "      <td>6406531167066</td>\n",
       "      <td>AppDev-2</td>\n",
       "      <td>4.5</td>\n",
       "    </tr>\n",
       "    <tr>\n",
       "      <th>158</th>\n",
       "      <td>640653351667</td>\n",
       "      <td>[6406531167071]</td>\n",
       "      <td>3</td>\n",
       "      <td>6406531167071</td>\n",
       "      <td>AppDev-2</td>\n",
       "      <td>3.0</td>\n",
       "    </tr>\n",
       "    <tr>\n",
       "      <th>159</th>\n",
       "      <td>640653351668</td>\n",
       "      <td>[6406531167075]</td>\n",
       "      <td>3</td>\n",
       "      <td>6406531167075</td>\n",
       "      <td>AppDev-2</td>\n",
       "      <td>3.0</td>\n",
       "    </tr>\n",
       "    <tr>\n",
       "      <th>160</th>\n",
       "      <td>640653351669</td>\n",
       "      <td>[6406531167080]</td>\n",
       "      <td>3</td>\n",
       "      <td>6406531167080</td>\n",
       "      <td>AppDev-2</td>\n",
       "      <td>3.0</td>\n",
       "    </tr>\n",
       "    <tr>\n",
       "      <th>231</th>\n",
       "      <td>640653351746</td>\n",
       "      <td>[6406531167322]</td>\n",
       "      <td>2</td>\n",
       "      <td>6406531167322</td>\n",
       "      <td>Business Analytics</td>\n",
       "      <td>2.0</td>\n",
       "    </tr>\n",
       "    <tr>\n",
       "      <th>232</th>\n",
       "      <td>640653351747</td>\n",
       "      <td>[5.9, 6.1]</td>\n",
       "      <td>2</td>\n",
       "      <td>6</td>\n",
       "      <td>Business Analytics</td>\n",
       "      <td>2.0</td>\n",
       "    </tr>\n",
       "    <tr>\n",
       "      <th>234</th>\n",
       "      <td>640653351749</td>\n",
       "      <td>[1.38, 1.44]</td>\n",
       "      <td>2</td>\n",
       "      <td>1.43</td>\n",
       "      <td>Business Analytics</td>\n",
       "      <td>2.0</td>\n",
       "    </tr>\n",
       "    <tr>\n",
       "      <th>235</th>\n",
       "      <td>640653351750</td>\n",
       "      <td>[6406531167328]</td>\n",
       "      <td>2</td>\n",
       "      <td>6406531167328</td>\n",
       "      <td>Business Analytics</td>\n",
       "      <td>2.0</td>\n",
       "    </tr>\n",
       "    <tr>\n",
       "      <th>237</th>\n",
       "      <td>640653351752</td>\n",
       "      <td>[6406531167338]</td>\n",
       "      <td>2</td>\n",
       "      <td>6406531167338</td>\n",
       "      <td>Business Analytics</td>\n",
       "      <td>2.0</td>\n",
       "    </tr>\n",
       "    <tr>\n",
       "      <th>238</th>\n",
       "      <td>640653351754</td>\n",
       "      <td>[80]</td>\n",
       "      <td>1</td>\n",
       "      <td>80</td>\n",
       "      <td>Business Analytics</td>\n",
       "      <td>1.0</td>\n",
       "    </tr>\n",
       "  </tbody>\n",
       "</table>\n",
       "</div>"
      ],
      "text/plain": [
       "      Question Id                         Answers Correct Marks  \\\n",
       "129  640653351638                 [6406531166957]             3   \n",
       "130  640653351639                 [6406531166963]             3   \n",
       "131  640653351640  [6406531166964, 6406531166966]             4   \n",
       "132  640653351641                 [6406531166970]             3   \n",
       "133  640653351642  [6406531166972, 6406531166973]             4   \n",
       "135  640653351644                 [6406531166983]             3   \n",
       "137  640653351646                 [6406531166989]             3   \n",
       "138  640653351647                 [6406531166994]             3   \n",
       "139  640653351648                 [6406531166997]             3   \n",
       "141  640653351650  [6406531167005, 6406531167007]             4   \n",
       "142  640653351651                 [6406531167010]             3   \n",
       "143  640653351652                 [6406531167015]             3   \n",
       "146  640653351655                 [6406531167026]           4.5   \n",
       "147  640653351656                 [6406531167029]             3   \n",
       "150  640653351659  [6406531167040, 6406531167041]             2   \n",
       "153  640653351662  [6406531167052, 6406531167054]             3   \n",
       "156  640653351665                 [6406531167066]           4.5   \n",
       "158  640653351667                 [6406531167071]             3   \n",
       "159  640653351668                 [6406531167075]             3   \n",
       "160  640653351669                 [6406531167080]             3   \n",
       "231  640653351746                 [6406531167322]             2   \n",
       "232  640653351747                      [5.9, 6.1]             2   \n",
       "234  640653351749                    [1.38, 1.44]             2   \n",
       "235  640653351750                 [6406531167328]             2   \n",
       "237  640653351752                 [6406531167338]             2   \n",
       "238  640653351754                            [80]             1   \n",
       "\n",
       "                       My answer            Subjects  Score  \n",
       "129                6406531166957                Java    3.0  \n",
       "130                6406531166963                Java    3.0  \n",
       "131  6406531166964,6406531166966                Java    4.0  \n",
       "132                6406531166970                Java    3.0  \n",
       "133  6406531166972,6406531166973                Java    4.0  \n",
       "135                6406531166983                Java    3.0  \n",
       "137                6406531166989                Java    3.0  \n",
       "138                6406531166994                Java    3.0  \n",
       "139                6406531166997                Java    3.0  \n",
       "141  6406531167005,6406531167007                Java    4.0  \n",
       "142                6406531167010                Java    3.0  \n",
       "143                6406531167015                Java    3.0  \n",
       "146                6406531167026            AppDev-2    4.5  \n",
       "147                6406531167029            AppDev-2    3.0  \n",
       "150  6406531167040,6406531167041            AppDev-2    2.0  \n",
       "153                6406531167052            AppDev-2    1.5  \n",
       "156                6406531167066            AppDev-2    4.5  \n",
       "158                6406531167071            AppDev-2    3.0  \n",
       "159                6406531167075            AppDev-2    3.0  \n",
       "160                6406531167080            AppDev-2    3.0  \n",
       "231                6406531167322  Business Analytics    2.0  \n",
       "232                            6  Business Analytics    2.0  \n",
       "234                         1.43  Business Analytics    2.0  \n",
       "235                6406531167328  Business Analytics    2.0  \n",
       "237                6406531167338  Business Analytics    2.0  \n",
       "238                           80  Business Analytics    1.0  "
      ]
     },
     "execution_count": 26,
     "metadata": {},
     "output_type": "execute_result"
    }
   ],
   "source": [
    "df3[df3[\"Score\"]>0]"
   ]
  },
  {
   "cell_type": "code",
   "execution_count": 27,
   "metadata": {},
   "outputs": [],
   "source": [
    "df3[\"Correct Marks\"]=df3[\"Correct Marks\"].apply(float)"
   ]
  },
  {
   "cell_type": "code",
   "execution_count": 28,
   "metadata": {},
   "outputs": [],
   "source": [
    "report2=pd.DataFrame(df3.groupby(\"Subjects\")[[\"Correct Marks\",\"Score\"]].sum())"
   ]
  },
  {
   "cell_type": "code",
   "execution_count": 29,
   "metadata": {},
   "outputs": [],
   "source": [
    "report2[\"Percentage\"]=(report2[\"Score\"]*100/report2[\"Correct Marks\"]).round(2)"
   ]
  },
  {
   "cell_type": "code",
   "execution_count": 30,
   "metadata": {},
   "outputs": [
    {
     "data": {
      "text/html": [
       "<style type=\"text/css\">\n",
       "#T_69d90 thead {\n",
       "  background-color: #0dcaf0;\n",
       "  color: white;\n",
       "}\n",
       "#T_69d90_row0_col1, #T_69d90_row0_col2, #T_69d90_row2_col1, #T_69d90_row2_col2, #T_69d90_row4_col1, #T_69d90_row4_col2, #T_69d90_row5_col1, #T_69d90_row5_col2, #T_69d90_row7_col1, #T_69d90_row7_col2, #T_69d90_row8_col1, #T_69d90_row8_col2, #T_69d90_row9_col1, #T_69d90_row9_col2, #T_69d90_row10_col1, #T_69d90_row10_col2, #T_69d90_row11_col1, #T_69d90_row11_col2, #T_69d90_row12_col1, #T_69d90_row12_col2, #T_69d90_row13_col1, #T_69d90_row13_col2 {\n",
       "  color: red;\n",
       "}\n",
       "#T_69d90_row1_col1, #T_69d90_row1_col2, #T_69d90_row3_col1, #T_69d90_row3_col2, #T_69d90_row6_col1, #T_69d90_row6_col2 {\n",
       "  color: green;\n",
       "}\n",
       "</style>\n",
       "<table id=\"T_69d90\">\n",
       "  <thead>\n",
       "    <tr>\n",
       "      <th class=\"blank level0\" >&nbsp;</th>\n",
       "      <th id=\"T_69d90_level0_col0\" class=\"col_heading level0 col0\" >Total Marks</th>\n",
       "      <th id=\"T_69d90_level0_col1\" class=\"col_heading level0 col1\" >Scored</th>\n",
       "      <th id=\"T_69d90_level0_col2\" class=\"col_heading level0 col2\" >Percentage</th>\n",
       "    </tr>\n",
       "    <tr>\n",
       "      <th class=\"index_name level0\" >Subjects</th>\n",
       "      <th class=\"blank col0\" >&nbsp;</th>\n",
       "      <th class=\"blank col1\" >&nbsp;</th>\n",
       "      <th class=\"blank col2\" >&nbsp;</th>\n",
       "    </tr>\n",
       "  </thead>\n",
       "  <tbody>\n",
       "    <tr>\n",
       "      <th id=\"T_69d90_level0_row0\" class=\"row_heading level0 row0\" >AppDev-1</th>\n",
       "      <td id=\"T_69d90_row0_col0\" class=\"data row0 col0\" >50.00</td>\n",
       "      <td id=\"T_69d90_row0_col1\" class=\"data row0 col1\" >0.00</td>\n",
       "      <td id=\"T_69d90_row0_col2\" class=\"data row0 col2\" >0.00%</td>\n",
       "    </tr>\n",
       "    <tr>\n",
       "      <th id=\"T_69d90_level0_row1\" class=\"row_heading level0 row1\" >AppDev-2</th>\n",
       "      <td id=\"T_69d90_row1_col0\" class=\"data row1 col0\" >50.00</td>\n",
       "      <td id=\"T_69d90_row1_col1\" class=\"data row1 col1\" >24.50</td>\n",
       "      <td id=\"T_69d90_row1_col2\" class=\"data row1 col2\" >49.00%</td>\n",
       "    </tr>\n",
       "    <tr>\n",
       "      <th id=\"T_69d90_level0_row2\" class=\"row_heading level0 row2\" >BDM</th>\n",
       "      <td id=\"T_69d90_row2_col0\" class=\"data row2 col0\" >20.00</td>\n",
       "      <td id=\"T_69d90_row2_col1\" class=\"data row2 col1\" >0.00</td>\n",
       "      <td id=\"T_69d90_row2_col2\" class=\"data row2 col2\" >0.00%</td>\n",
       "    </tr>\n",
       "    <tr>\n",
       "      <th id=\"T_69d90_level0_row3\" class=\"row_heading level0 row3\" >Business Analytics</th>\n",
       "      <td id=\"T_69d90_row3_col0\" class=\"data row3 col0\" >20.00</td>\n",
       "      <td id=\"T_69d90_row3_col1\" class=\"data row3 col1\" >11.00</td>\n",
       "      <td id=\"T_69d90_row3_col2\" class=\"data row3 col2\" >55.00%</td>\n",
       "    </tr>\n",
       "    <tr>\n",
       "      <th id=\"T_69d90_level0_row4\" class=\"row_heading level0 row4\" >CT</th>\n",
       "      <td id=\"T_69d90_row4_col0\" class=\"data row4 col0\" >50.00</td>\n",
       "      <td id=\"T_69d90_row4_col1\" class=\"data row4 col1\" >0.00</td>\n",
       "      <td id=\"T_69d90_row4_col2\" class=\"data row4 col2\" >0.00%</td>\n",
       "    </tr>\n",
       "    <tr>\n",
       "      <th id=\"T_69d90_level0_row5\" class=\"row_heading level0 row5\" >DBMS</th>\n",
       "      <td id=\"T_69d90_row5_col0\" class=\"data row5 col0\" >50.00</td>\n",
       "      <td id=\"T_69d90_row5_col1\" class=\"data row5 col1\" >0.00</td>\n",
       "      <td id=\"T_69d90_row5_col2\" class=\"data row5 col2\" >0.00%</td>\n",
       "    </tr>\n",
       "    <tr>\n",
       "      <th id=\"T_69d90_level0_row6\" class=\"row_heading level0 row6\" >Java</th>\n",
       "      <td id=\"T_69d90_row6_col0\" class=\"data row6 col0\" >50.00</td>\n",
       "      <td id=\"T_69d90_row6_col1\" class=\"data row6 col1\" >39.00</td>\n",
       "      <td id=\"T_69d90_row6_col2\" class=\"data row6 col2\" >78.00%</td>\n",
       "    </tr>\n",
       "    <tr>\n",
       "      <th id=\"T_69d90_level0_row7\" class=\"row_heading level0 row7\" >MLF</th>\n",
       "      <td id=\"T_69d90_row7_col0\" class=\"data row7 col0\" >50.00</td>\n",
       "      <td id=\"T_69d90_row7_col1\" class=\"data row7 col1\" >0.00</td>\n",
       "      <td id=\"T_69d90_row7_col2\" class=\"data row7 col2\" >0.00%</td>\n",
       "    </tr>\n",
       "    <tr>\n",
       "      <th id=\"T_69d90_level0_row8\" class=\"row_heading level0 row8\" >MLP</th>\n",
       "      <td id=\"T_69d90_row8_col0\" class=\"data row8 col0\" >50.00</td>\n",
       "      <td id=\"T_69d90_row8_col1\" class=\"data row8 col1\" >0.00</td>\n",
       "      <td id=\"T_69d90_row8_col2\" class=\"data row8 col2\" >0.00%</td>\n",
       "    </tr>\n",
       "    <tr>\n",
       "      <th id=\"T_69d90_level0_row9\" class=\"row_heading level0 row9\" >MLT</th>\n",
       "      <td id=\"T_69d90_row9_col0\" class=\"data row9 col0\" >50.00</td>\n",
       "      <td id=\"T_69d90_row9_col1\" class=\"data row9 col1\" >0.00</td>\n",
       "      <td id=\"T_69d90_row9_col2\" class=\"data row9 col2\" >0.00%</td>\n",
       "    </tr>\n",
       "    <tr>\n",
       "      <th id=\"T_69d90_level0_row10\" class=\"row_heading level0 row10\" >Maths 2</th>\n",
       "      <td id=\"T_69d90_row10_col0\" class=\"data row10 col0\" >25.00</td>\n",
       "      <td id=\"T_69d90_row10_col1\" class=\"data row10 col1\" >0.00</td>\n",
       "      <td id=\"T_69d90_row10_col2\" class=\"data row10 col2\" >0.00%</td>\n",
       "    </tr>\n",
       "    <tr>\n",
       "      <th id=\"T_69d90_level0_row11\" class=\"row_heading level0 row11\" >PDSA</th>\n",
       "      <td id=\"T_69d90_row11_col0\" class=\"data row11 col0\" >50.00</td>\n",
       "      <td id=\"T_69d90_row11_col1\" class=\"data row11 col1\" >0.00</td>\n",
       "      <td id=\"T_69d90_row11_col2\" class=\"data row11 col2\" >0.00%</td>\n",
       "    </tr>\n",
       "    <tr>\n",
       "      <th id=\"T_69d90_level0_row12\" class=\"row_heading level0 row12\" >Statistics 2</th>\n",
       "      <td id=\"T_69d90_row12_col0\" class=\"data row12 col0\" >40.00</td>\n",
       "      <td id=\"T_69d90_row12_col1\" class=\"data row12 col1\" >0.00</td>\n",
       "      <td id=\"T_69d90_row12_col2\" class=\"data row12 col2\" >0.00%</td>\n",
       "    </tr>\n",
       "    <tr>\n",
       "      <th id=\"T_69d90_level0_row13\" class=\"row_heading level0 row13\" >System Commands</th>\n",
       "      <td id=\"T_69d90_row13_col0\" class=\"data row13 col0\" >100.00</td>\n",
       "      <td id=\"T_69d90_row13_col1\" class=\"data row13 col1\" >0.00</td>\n",
       "      <td id=\"T_69d90_row13_col2\" class=\"data row13 col2\" >0.00%</td>\n",
       "    </tr>\n",
       "  </tbody>\n",
       "</table>\n"
      ],
      "text/plain": [
       "<pandas.io.formats.style.Styler at 0x242889ec2b0>"
      ]
     },
     "execution_count": 30,
     "metadata": {},
     "output_type": "execute_result"
    }
   ],
   "source": [
    "report2.columns=[\"Total Marks\",\"Scored\",\"Percentage\"]\n",
    "headers = {\n",
    "    'selector': 'thead',\n",
    "    'props': 'background-color: #0dcaf0; color: white;'\n",
    "}\n",
    "report2.style.applymap(lambda v: 'color:red;' if (v == 0) else 'color:green',subset=[\"Percentage\",\"Scored\"])\\\n",
    "    .set_table_styles([headers])\\\n",
    "    .format({\"Total Marks\":'{:.2f}',\"Scored\":'{:.2f}',\"Percentage\":'{0:,.2f}%'})"
   ]
  },
  {
   "cell_type": "code",
   "execution_count": 31,
   "metadata": {},
   "outputs": [
    {
     "data": {
      "text/html": [
       "<div>\n",
       "<style scoped>\n",
       "    .dataframe tbody tr th:only-of-type {\n",
       "        vertical-align: middle;\n",
       "    }\n",
       "\n",
       "    .dataframe tbody tr th {\n",
       "        vertical-align: top;\n",
       "    }\n",
       "\n",
       "    .dataframe thead th {\n",
       "        text-align: right;\n",
       "    }\n",
       "</style>\n",
       "<table border=\"1\" class=\"dataframe\">\n",
       "  <thead>\n",
       "    <tr style=\"text-align: right;\">\n",
       "      <th></th>\n",
       "      <th>Total Marks</th>\n",
       "      <th>Scored</th>\n",
       "      <th>Percentage</th>\n",
       "    </tr>\n",
       "    <tr>\n",
       "      <th>Subjects</th>\n",
       "      <th></th>\n",
       "      <th></th>\n",
       "      <th></th>\n",
       "    </tr>\n",
       "  </thead>\n",
       "  <tbody>\n",
       "    <tr>\n",
       "      <th>AppDev-2</th>\n",
       "      <td>50.0</td>\n",
       "      <td>24.5</td>\n",
       "      <td>49.0</td>\n",
       "    </tr>\n",
       "    <tr>\n",
       "      <th>Business Analytics</th>\n",
       "      <td>20.0</td>\n",
       "      <td>11.0</td>\n",
       "      <td>55.0</td>\n",
       "    </tr>\n",
       "    <tr>\n",
       "      <th>Java</th>\n",
       "      <td>50.0</td>\n",
       "      <td>39.0</td>\n",
       "      <td>78.0</td>\n",
       "    </tr>\n",
       "  </tbody>\n",
       "</table>\n",
       "</div>"
      ],
      "text/plain": [
       "                    Total Marks  Scored  Percentage\n",
       "Subjects                                           \n",
       "AppDev-2                   50.0    24.5        49.0\n",
       "Business Analytics         20.0    11.0        55.0\n",
       "Java                       50.0    39.0        78.0"
      ]
     },
     "execution_count": 31,
     "metadata": {},
     "output_type": "execute_result"
    }
   ],
   "source": [
    "report2[report2[\"Percentage\"]>0]"
   ]
  },
  {
   "cell_type": "markdown",
   "metadata": {},
   "source": [
    "### Exporting dataframe as csv"
   ]
  },
  {
   "cell_type": "code",
   "execution_count": 32,
   "metadata": {},
   "outputs": [],
   "source": [
    "df3[df3[\"Subjects\"].isin(report2[report2[\"Percentage\"]>0].index)].to_csv(\"summary.csv\")\n",
    "report2[report2[\"Percentage\"]>0].to_csv(\"report_card.csv\")"
   ]
  },
  {
   "cell_type": "code",
   "execution_count": null,
   "metadata": {},
   "outputs": [],
   "source": []
  }
 ],
 "metadata": {
  "colab": {
   "collapsed_sections": [],
   "name": "PDF_Scraping-MBCopy.ipynb",
   "provenance": []
  },
  "kernelspec": {
   "display_name": "Python 3 (ipykernel)",
   "language": "python",
   "name": "python3"
  },
  "language_info": {
   "codemirror_mode": {
    "name": "ipython",
    "version": 3
   },
   "file_extension": ".py",
   "mimetype": "text/x-python",
   "name": "python",
   "nbconvert_exporter": "python",
   "pygments_lexer": "ipython3",
   "version": "3.9.12"
  }
 },
 "nbformat": 4,
 "nbformat_minor": 4
}
