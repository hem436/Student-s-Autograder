{
 "cells": [
  {
   "cell_type": "markdown",
   "metadata": {
    "id": "aCDpAf4EWQhO"
   },
   "source": [
    "## **Student's Autograder**\n",
    "This is a project to calculate quiz and term scores from q&a pdf and response pdf."
   ]
  },
  {
   "cell_type": "markdown",
   "metadata": {},
   "source": [
    "Whats left: \n",
    "\n",
    "* Editing pdf\n"
   ]
  },
  {
   "cell_type": "markdown",
   "metadata": {
    "id": "6V2_XMBIDFin"
   },
   "source": [
    "### Importing the required libraries "
   ]
  },
  {
   "cell_type": "code",
   "execution_count": 1,
   "metadata": {
    "id": "AJWhrjFBs-wV"
   },
   "outputs": [],
   "source": [
    "import os\n",
    "import pandas as pd\n",
    "import numpy as np\n",
    "import tabula\n",
    "from ipywidgets import widgets\n",
    "from PyPDF2 import PdfFileReader, PdfFileWriter\n",
    "from PyPDF2.generic import DecodedStreamObject, EncodedStreamObject,ArrayObject"
   ]
  },
  {
   "cell_type": "code",
   "execution_count": 2,
   "metadata": {},
   "outputs": [
    {
     "data": {
      "text/plain": [
       "'C:\\\\Users\\\\506761\\\\OneDrive - Tata Steel Limited\\\\Documents\\\\Python Scripts'"
      ]
     },
     "execution_count": 2,
     "metadata": {},
     "output_type": "execute_result"
    }
   ],
   "source": [
    "#debugging for notebooks current directory for reading files later.\n",
    "import os\n",
    "os.getcwd()"
   ]
  },
  {
   "cell_type": "markdown",
   "metadata": {
    "id": "wE0xdNo6DSQE"
   },
   "source": [
    "### Reading pdfs"
   ]
  },
  {
   "cell_type": "code",
   "execution_count": 3,
   "metadata": {},
   "outputs": [
    {
     "data": {
      "application/vnd.jupyter.widget-view+json": {
       "model_id": "26d47898bfa940fe9fff076ba0e05fce",
       "version_major": 2,
       "version_minor": 0
      },
      "text/plain": [
       "Text(value='', description='Response pdf:', placeholder='Enter filename with extension')"
      ]
     },
     "metadata": {},
     "output_type": "display_data"
    },
    {
     "data": {
      "application/vnd.jupyter.widget-view+json": {
       "model_id": "65511287e35c4ff9a7435662e372d748",
       "version_major": 2,
       "version_minor": 0
      },
      "text/plain": [
       "Text(value='', description='Q&A pdf:', placeholder='Enter filename with extension')"
      ]
     },
     "metadata": {},
     "output_type": "display_data"
    }
   ],
   "source": [
    "resp_pdf = widgets.Text(\n",
    " placeholder='Enter filename with extension',\n",
    " description='Response pdf:'\n",
    " )\n",
    "qa_pdf = widgets.Text(\n",
    " placeholder='Enter filename with extension',\n",
    " description='Q&A pdf:'\n",
    " )\n",
    "#POD22S1C11500062.pdf\n",
    "#IIT M DAD DIPLOMA AN2 EXAM QPD1.pdf\n",
    "display(resp_pdf,qa_pdf)"
   ]
  },
  {
   "cell_type": "code",
   "execution_count": 85,
   "metadata": {
    "colab": {
     "base_uri": "https://localhost:8080/"
    },
    "executionInfo": {
     "elapsed": 68881,
     "status": "ok",
     "timestamp": 1660199975340,
     "user": {
      "displayName": "Mahesh Balan U",
      "userId": "03222065794003590393"
     },
     "user_tz": -330
    },
    "id": "dPLWR7pj20Be",
    "outputId": "b5dab9a7-ee46-4620-c547-1e4c84deea3b"
   },
   "outputs": [],
   "source": [
    "filename=qa_pdf.value"
   ]
  },
  {
   "cell_type": "markdown",
   "metadata": {},
   "source": [
    "### Variables initialization"
   ]
  },
  {
   "cell_type": "code",
   "execution_count": 86,
   "metadata": {},
   "outputs": [],
   "source": [
    "my_question=\"Question ID\"\n",
    "my_answer=\"Options Selected\"\n",
    "unanswered=\"Unanswered\"\n",
    "file_qid=\"Question Id\""
   ]
  },
  {
   "cell_type": "markdown",
   "metadata": {
    "id": "4E6nPj3HWpPu"
   },
   "source": [
    "Students response for exam dataframe"
   ]
  },
  {
   "cell_type": "code",
   "execution_count": 87,
   "metadata": {
    "colab": {
     "base_uri": "https://localhost:8080/"
    },
    "executionInfo": {
     "elapsed": 1052,
     "status": "ok",
     "timestamp": 1655457666437,
     "user": {
      "displayName": "Mahesh Balan U",
      "userId": "03222065794003590393"
     },
     "user_tz": -330
    },
    "id": "NnC5kExD9z2P",
    "outputId": "77a8edeb-45ce-4522-d427-b9ec8153d16b"
   },
   "outputs": [],
   "source": [
    "rpdf_df=PdfFileReader(resp_pdf.value)"
   ]
  },
  {
   "cell_type": "code",
   "execution_count": 88,
   "metadata": {
    "colab": {
     "base_uri": "https://localhost:8080/"
    },
    "executionInfo": {
     "elapsed": 1052,
     "status": "ok",
     "timestamp": 1655457666437,
     "user": {
      "displayName": "Mahesh Balan U",
      "userId": "03222065794003590393"
     },
     "user_tz": -330
    },
    "id": "NnC5kExD9z2P",
    "outputId": "77a8edeb-45ce-4522-d427-b9ec8153d16b"
   },
   "outputs": [
    {
     "data": {
      "text/html": [
       "<div>\n",
       "<style scoped>\n",
       "    .dataframe tbody tr th:only-of-type {\n",
       "        vertical-align: middle;\n",
       "    }\n",
       "\n",
       "    .dataframe tbody tr th {\n",
       "        vertical-align: top;\n",
       "    }\n",
       "\n",
       "    .dataframe thead th {\n",
       "        text-align: right;\n",
       "    }\n",
       "</style>\n",
       "<table border=\"1\" class=\"dataframe\">\n",
       "  <thead>\n",
       "    <tr style=\"text-align: right;\">\n",
       "      <th></th>\n",
       "      <th>Question ID</th>\n",
       "      <th>Options Selected</th>\n",
       "    </tr>\n",
       "  </thead>\n",
       "  <tbody>\n",
       "    <tr>\n",
       "      <th>0</th>\n",
       "      <td>640653445429</td>\n",
       "      <td>Unanswered</td>\n",
       "    </tr>\n",
       "    <tr>\n",
       "      <th>1</th>\n",
       "      <td>640653445430</td>\n",
       "      <td>Unanswered</td>\n",
       "    </tr>\n",
       "    <tr>\n",
       "      <th>2</th>\n",
       "      <td>640653445431</td>\n",
       "      <td>Unanswered</td>\n",
       "    </tr>\n",
       "    <tr>\n",
       "      <th>3</th>\n",
       "      <td>640653445432</td>\n",
       "      <td>Unanswered</td>\n",
       "    </tr>\n",
       "    <tr>\n",
       "      <th>4</th>\n",
       "      <td>640653445433</td>\n",
       "      <td>Unanswered</td>\n",
       "    </tr>\n",
       "    <tr>\n",
       "      <th>...</th>\n",
       "      <td>...</td>\n",
       "      <td>...</td>\n",
       "    </tr>\n",
       "    <tr>\n",
       "      <th>272</th>\n",
       "      <td>640653445726</td>\n",
       "      <td>Unanswered</td>\n",
       "    </tr>\n",
       "    <tr>\n",
       "      <th>273</th>\n",
       "      <td>640653445727</td>\n",
       "      <td>Unanswered</td>\n",
       "    </tr>\n",
       "    <tr>\n",
       "      <th>274</th>\n",
       "      <td>640653445730</td>\n",
       "      <td>Unanswered</td>\n",
       "    </tr>\n",
       "    <tr>\n",
       "      <th>275</th>\n",
       "      <td>640653445731</td>\n",
       "      <td>Unanswered</td>\n",
       "    </tr>\n",
       "    <tr>\n",
       "      <th>276</th>\n",
       "      <td>640653445732</td>\n",
       "      <td>Unanswered</td>\n",
       "    </tr>\n",
       "  </tbody>\n",
       "</table>\n",
       "<p>277 rows × 2 columns</p>\n",
       "</div>"
      ],
      "text/plain": [
       "      Question ID Options Selected\n",
       "0    640653445429       Unanswered\n",
       "1    640653445430       Unanswered\n",
       "2    640653445431       Unanswered\n",
       "3    640653445432       Unanswered\n",
       "4    640653445433       Unanswered\n",
       "..            ...              ...\n",
       "272  640653445726       Unanswered\n",
       "273  640653445727       Unanswered\n",
       "274  640653445730       Unanswered\n",
       "275  640653445731       Unanswered\n",
       "276  640653445732       Unanswered\n",
       "\n",
       "[277 rows x 2 columns]"
      ]
     },
     "execution_count": 88,
     "metadata": {},
     "output_type": "execute_result"
    }
   ],
   "source": [
    "#Updated response pdf reading method from tabula to raw \n",
    "myans=[]\n",
    "for i in range(rpdf_df.getNumPages()):\n",
    "    myans+=(rpdf_df.pages[i].extractText().split(\"\\n\"))\n",
    "myans=myans[myans.index(\"Question ID\"):]\n",
    "myans=pd.DataFrame(np.vstack((myans[2::2],myans[3::2])).T,columns=[myans[0],myans[1]])\n",
    "myans[\"Question ID\"]=myans[\"Question ID\"].apply(int)\n",
    "myans"
   ]
  },
  {
   "cell_type": "code",
   "execution_count": 89,
   "metadata": {},
   "outputs": [],
   "source": [
    "# with pd.option_context(\"display.max_rows\",None):\n",
    "#     print(df3)"
   ]
  },
  {
   "cell_type": "markdown",
   "metadata": {
    "colab": {
     "base_uri": "https://localhost:8080/"
    },
    "executionInfo": {
     "elapsed": 5,
     "status": "ok",
     "timestamp": 1655464208192,
     "user": {
      "displayName": "Mahesh Balan U",
      "userId": "03222065794003590393"
     },
     "user_tz": -330
    },
    "id": "WPzDcsX-Wwpf",
    "outputId": "3785d44b-c29c-4252-9688-1d6082f57551"
   },
   "source": [
    "### Useful functions"
   ]
  },
  {
   "cell_type": "code",
   "execution_count": 90,
   "metadata": {},
   "outputs": [],
   "source": [
    "def gentextarr(content):\n",
    "    \"\"\"\n",
    "    Returns an array of text block properties of pdf\n",
    "    Parameter:\n",
    "        content: string object of page content obtained by page.getContents().getData().decode() \n",
    "    \"\"\"\n",
    "    lines = content.splitlines()\n",
    "    result = []\n",
    "    in_text = False\n",
    "    for line in lines:\n",
    "        if line == \"BT\":\n",
    "            in_text = True\n",
    "            temp=[]\n",
    "\n",
    "        elif line == \"ET\":\n",
    "            in_text = False\n",
    "            result.append(temp)\n",
    "            temp=[]\n",
    "\n",
    "        elif in_text:\n",
    "            if line[-2:].lower()==\"tj\" or line[-2:].lower()==\"tf\" or line[-2:].lower()==\"rg\":\n",
    "                temp.append(line[:])\n",
    "    return result\n",
    "\n",
    "def gen_cmap(font,pg):\n",
    "    \"\"\"\n",
    "    Returns a character map dictionary of a pdf 'filename' page 'pg' and font \n",
    "    Parameter:\n",
    "     font: font key name in meta properties of pdf.\n",
    "     pg: int page number of pdf\n",
    "    \"\"\"\n",
    "    # pdf = PdfFileReader(filename)\n",
    "    # page = pdf.getPage(pg)\n",
    "    page=pg\n",
    "    temp=False\n",
    "    cmap={}\n",
    "    for i in (page.getObject()['/Resources']['/Font'][font]['/ToUnicode'].getObject().getData().decode().split('\\n')):\n",
    "        if \"endbfrange\" in i:\n",
    "            temp=False\n",
    "        if temp:\n",
    "            cmap[i[1:5]]=i[-5:-1]\n",
    "        if \"beginbfrange\" in i:\n",
    "            temp=True\n",
    "    return cmap\n",
    "\n",
    "def font_decoder(text,cmap):\n",
    "    \"\"\"\n",
    "    Returns decoded word from pdf text hex code. \n",
    "    \"\"\"\n",
    "\n",
    "    count=0\n",
    "    word=\"\"\n",
    "    temp=\"\"\n",
    "    for i in text:\n",
    "        count+=1\n",
    "        if count==4:\n",
    "            temp+=i\n",
    "            word+=chr(int(cmap.get(temp.lower(),temp.lower()),16))\n",
    "            temp=\"\"\n",
    "            count=0\n",
    "        else:\n",
    "            temp+=i\n",
    "    return word\n"
   ]
  },
  {
   "cell_type": "code",
   "execution_count": null,
   "metadata": {},
   "outputs": [],
   "source": []
  },
  {
   "cell_type": "markdown",
   "metadata": {},
   "source": [
    "## PDF Content"
   ]
  },
  {
   "cell_type": "code",
   "execution_count": 91,
   "metadata": {},
   "outputs": [],
   "source": [
    "\"\"\"\n",
    "This piece of code extracts question answer pdf text content as well as correct answer key.\n",
    "\"\"\"\n",
    "pdf = PdfFileReader(filename)\n",
    "sum=0\n",
    "df=[[file_qid,\"Correct Marks\",\"Answers\"]]\n",
    "m_bool=False\n",
    "marks=\"\"\n",
    "ans_bool=False\n",
    "ans=\"\"\n",
    "row=[]\n",
    "temp=[]\n",
    "s_head=[]\n",
    "temp_head=\"\"\n",
    "ishead=False\n",
    "for p in range(0,pdf.getNumPages()):\n",
    "    content=pdf.pages[p].getContents()\n",
    "    #a different type content\n",
    "    if type(content)==ArrayObject:\n",
    "        m=\"\"\n",
    "        for n in content:\n",
    "            m+=n.getObject().getData().decode()\n",
    "        content=m\n",
    "    elif type(content)==EncodedStreamObject or type(content)==DecodedStreamObject:\n",
    "        content=content.getData().decode()\n",
    "    for i in gentextarr(content):\n",
    "        text=\"\"\n",
    "        ans_bool=False\n",
    "        for j in i:\n",
    "            # getting character map for a font type\n",
    "            if j[-2:].lower()==\"tf\":\n",
    "                cmap=gen_cmap(j.split()[0],pdf.pages[p])\n",
    "                #checking for subject headings with font size =18\n",
    "                if j.split()[1]==\"18\":\n",
    "                    ishead=True\n",
    "            # checking green color as ind of correctness        \n",
    "            if j==\"0 0.50196 0 rg\" and len(row)>1:\n",
    "                ans_bool=True\n",
    "    \n",
    "            elif j[-2:].lower()==\"tj\":\n",
    "                text=font_decoder(j[1:-3],cmap)\n",
    "                if ishead:\n",
    "                    ishead=False\n",
    "                    temp_head=text\n",
    "                \n",
    "                if (not m_bool) and (not ans_bool):\n",
    "                    # checking for question id\n",
    "                    if str(file_qid) in text:\n",
    "                        if len(temp)>0:\n",
    "                            row.append(temp)\n",
    "                            df.append(row)\n",
    "                        row=[]\n",
    "                        temp=[]\n",
    "                        if text.split()[7].isnumeric():\n",
    "                            s_head.append(temp_head)\n",
    "                            row=[text.split()[7]]\n",
    "                            m_bool=True\n",
    "                    \n",
    "                # extracting marks\n",
    "                elif m_bool:\n",
    "                    if \"Correct Marks\" in text:\n",
    "                        # appending to heading list if marks is 0\n",
    "                        # if text.split()[-1]==\"0\":\n",
    "                        #     s_head.append(temp_head)\n",
    "                        if len(row)==1:\n",
    "                            row.append(text.split()[3])\n",
    "                        m_bool=False\n",
    "                        \n",
    "                #extracting answer key\n",
    "                elif ans_bool:\n",
    "                    if text!=\" \":\n",
    "                        if len(text)>=13 and text[:13].isnumeric():\n",
    "                            temp.append(text[:13])\n",
    "                        elif len(text.split())==3 and \"to\" in text.split()[1]:\n",
    "                            t=text.split()\n",
    "                            temp=[float(t[0]),float(t[-1])]\n",
    "                        elif len(temp)==0:\n",
    "                            temp.append(text)\n",
    "if len(temp)>=1:\n",
    "    # s_head.append(temp_head)\n",
    "    row.append(temp)\n",
    "    df.append(row)"
   ]
  },
  {
   "cell_type": "code",
   "execution_count": 92,
   "metadata": {},
   "outputs": [
    {
     "name": "stdout",
     "output_type": "stream",
     "text": [
      "278\n"
     ]
    },
    {
     "data": {
      "text/plain": [
       "['640653445429', '0.5', ['6406531484269']]"
      ]
     },
     "execution_count": 92,
     "metadata": {},
     "output_type": "execute_result"
    }
   ],
   "source": [
    "print(len(df))\n",
    "df[1]"
   ]
  },
  {
   "cell_type": "code",
   "execution_count": 93,
   "metadata": {},
   "outputs": [
    {
     "data": {
      "text/html": [
       "<div>\n",
       "<style scoped>\n",
       "    .dataframe tbody tr th:only-of-type {\n",
       "        vertical-align: middle;\n",
       "    }\n",
       "\n",
       "    .dataframe tbody tr th {\n",
       "        vertical-align: top;\n",
       "    }\n",
       "\n",
       "    .dataframe thead th {\n",
       "        text-align: right;\n",
       "    }\n",
       "</style>\n",
       "<table border=\"1\" class=\"dataframe\">\n",
       "  <thead>\n",
       "    <tr style=\"text-align: right;\">\n",
       "      <th></th>\n",
       "      <th>Question Id</th>\n",
       "      <th>Correct Marks</th>\n",
       "      <th>Answers</th>\n",
       "      <th>Subjects</th>\n",
       "    </tr>\n",
       "  </thead>\n",
       "  <tbody>\n",
       "    <tr>\n",
       "      <th>273</th>\n",
       "      <td>640653445727</td>\n",
       "      <td>8</td>\n",
       "      <td>[6406531485133]</td>\n",
       "      <td>System commands</td>\n",
       "    </tr>\n",
       "    <tr>\n",
       "      <th>270</th>\n",
       "      <td>640653445728</td>\n",
       "      <td>8</td>\n",
       "      <td>[6406531485135, 6406531485137]</td>\n",
       "      <td>System commands</td>\n",
       "    </tr>\n",
       "    <tr>\n",
       "      <th>274</th>\n",
       "      <td>640653445730</td>\n",
       "      <td>6</td>\n",
       "      <td>[6406531485140, 6406531485142]</td>\n",
       "      <td>System commands</td>\n",
       "    </tr>\n",
       "    <tr>\n",
       "      <th>275</th>\n",
       "      <td>640653445731</td>\n",
       "      <td>6</td>\n",
       "      <td>[6406531485148]</td>\n",
       "      <td>System commands</td>\n",
       "    </tr>\n",
       "    <tr>\n",
       "      <th>276</th>\n",
       "      <td>640653445732</td>\n",
       "      <td>6</td>\n",
       "      <td>[6406531485151]</td>\n",
       "      <td>System commands</td>\n",
       "    </tr>\n",
       "  </tbody>\n",
       "</table>\n",
       "</div>"
      ],
      "text/plain": [
       "      Question Id Correct Marks                         Answers  \\\n",
       "273  640653445727             8                 [6406531485133]   \n",
       "270  640653445728             8  [6406531485135, 6406531485137]   \n",
       "274  640653445730             6  [6406531485140, 6406531485142]   \n",
       "275  640653445731             6                 [6406531485148]   \n",
       "276  640653445732             6                 [6406531485151]   \n",
       "\n",
       "            Subjects  \n",
       "273  System commands  \n",
       "270  System commands  \n",
       "274  System commands  \n",
       "275  System commands  \n",
       "276  System commands  "
      ]
     },
     "execution_count": 93,
     "metadata": {},
     "output_type": "execute_result"
    }
   ],
   "source": [
    "df2=pd.DataFrame(df[1:],columns=df[0])\n",
    "df2[file_qid]=df2[file_qid].apply(int)\n",
    "df2[\"Subjects\"]=np.array(s_head[-df2.shape[0]:])\n",
    "df2=df2.sort_values([file_qid])\n",
    "df2.tail()"
   ]
  },
  {
   "cell_type": "code",
   "execution_count": 94,
   "metadata": {
    "tags": []
   },
   "outputs": [],
   "source": [
    "def evaluate(df2):\n",
    "    \n",
    "    #Multi option\n",
    "    df2['Score'] = df2.apply(lambda x: (len(set(x[\"My answer\"].split(\",\"))\\\n",
    "                                            .intersection(set(x[\"Answers\"])))/len(x[\"Answers\"]))*float(x['Correct Marks'])\\\n",
    "                             if type(x[\"Answers\"][0])==str and len(x[\"Answers\"][0])==13 and\\\n",
    "                                len(set(x[\"My answer\"].split(\",\")))<=len(set(x[\"Answers\"])) and\\\n",
    "                                set(x[\"My answer\"].split(\",\")).issubset(set(x[\"Answers\"]))\\\n",
    "                             else x[\"Score\"], axis=1)\n",
    "    #integer ranged\n",
    "    df2['Score'] = df2.apply(lambda x: float(x['Correct Marks'])\\\n",
    "                             if len(x[\"My answer\"])<13 and len(x[\"My answer\"])>0 and\\\n",
    "                                len(x['Answers'])>=1 and\\\n",
    "                                float(x['My answer']) >= float(x[\"Answers\"][0]) and\\\n",
    "                                float(x['My answer']) <= float(x[\"Answers\"][-1])\\\n",
    "                             else x[\"Score\"], axis=1)\n",
    "    return df2"
   ]
  },
  {
   "cell_type": "markdown",
   "metadata": {},
   "source": [
    "## Final score"
   ]
  },
  {
   "cell_type": "markdown",
   "metadata": {},
   "source": [
    "### Method 1: using index of 0 correct marks"
   ]
  },
  {
   "cell_type": "code",
   "execution_count": 95,
   "metadata": {},
   "outputs": [],
   "source": [
    "# s_index=df3[df3[\"Correct Marks\"]==\"0\"].index\n",
    "# s_index"
   ]
  },
  {
   "cell_type": "code",
   "execution_count": 96,
   "metadata": {},
   "outputs": [],
   "source": [
    "# subjects={}\n",
    "# for i in range(len(s_index)):\n",
    "#     if i==len(s_index)-1:\n",
    "#         subjects[df3[\"Subjects\"][s_index[i]]]=df3.iloc[s_index[i]:]\n",
    "#     else:\n",
    "#         subjects[df3[\"Subjects\"][s_index[i]]]=df3.iloc[s_index[i]:s_index[i+1]]\n",
    "# subjects.keys()"
   ]
  },
  {
   "cell_type": "code",
   "execution_count": 97,
   "metadata": {},
   "outputs": [],
   "source": [
    "# reports=[]\n",
    "# for i in subjects.values():\n",
    "#     print(i[\"Correct Marks\"].apply(float).values)\n",
    "#     reports.append([i[\"Subjects\"].unique()[0],i[\"Correct Marks\"].apply(float).values.sum(),i[\"Score\"].sum()])"
   ]
  },
  {
   "cell_type": "code",
   "execution_count": 98,
   "metadata": {},
   "outputs": [],
   "source": [
    "# for i in reports:\n",
    "#     print(i[0],\":\",i[2]/i[1]*100,\"%\")"
   ]
  },
  {
   "cell_type": "markdown",
   "metadata": {},
   "source": [
    "### Method 2: Using groupby function"
   ]
  },
  {
   "cell_type": "code",
   "execution_count": 99,
   "metadata": {},
   "outputs": [],
   "source": [
    "df3=df2.set_index('Question Id').combine_first(myans.set_index('Question ID')).reset_index().replace([\"Unanswered\",np.NAN],\"\")"
   ]
  },
  {
   "cell_type": "code",
   "execution_count": 100,
   "metadata": {},
   "outputs": [],
   "source": [
    "df3.columns=[\"Question Id\",\"Answers\",\"Correct Marks\",\"My answer\",\"Subjects\" ]\n",
    "df3[\"Score\"]=np.zeros(df3.shape[0])\n",
    "df3=evaluate(df3)"
   ]
  },
  {
   "cell_type": "code",
   "execution_count": 101,
   "metadata": {},
   "outputs": [
    {
     "data": {
      "text/html": [
       "<div>\n",
       "<style scoped>\n",
       "    .dataframe tbody tr th:only-of-type {\n",
       "        vertical-align: middle;\n",
       "    }\n",
       "\n",
       "    .dataframe tbody tr th {\n",
       "        vertical-align: top;\n",
       "    }\n",
       "\n",
       "    .dataframe thead th {\n",
       "        text-align: right;\n",
       "    }\n",
       "</style>\n",
       "<table border=\"1\" class=\"dataframe\">\n",
       "  <thead>\n",
       "    <tr style=\"text-align: right;\">\n",
       "      <th></th>\n",
       "      <th>Question Id</th>\n",
       "      <th>Answers</th>\n",
       "      <th>Correct Marks</th>\n",
       "      <th>My answer</th>\n",
       "      <th>Subjects</th>\n",
       "      <th>Score</th>\n",
       "    </tr>\n",
       "  </thead>\n",
       "  <tbody>\n",
       "    <tr>\n",
       "      <th>183</th>\n",
       "      <td>640653445629</td>\n",
       "      <td>[6406531484861]</td>\n",
       "      <td>0</td>\n",
       "      <td>6406531484861</td>\n",
       "      <td>MLT</td>\n",
       "      <td>0.0</td>\n",
       "    </tr>\n",
       "    <tr>\n",
       "      <th>184</th>\n",
       "      <td>640653445630</td>\n",
       "      <td>[6406531484865]</td>\n",
       "      <td>7</td>\n",
       "      <td>6406531484865</td>\n",
       "      <td>MLT</td>\n",
       "      <td>7.0</td>\n",
       "    </tr>\n",
       "    <tr>\n",
       "      <th>185</th>\n",
       "      <td>640653445631</td>\n",
       "      <td>[6406531484870]</td>\n",
       "      <td>6</td>\n",
       "      <td>6406531484870</td>\n",
       "      <td>MLT</td>\n",
       "      <td>6.0</td>\n",
       "    </tr>\n",
       "    <tr>\n",
       "      <th>186</th>\n",
       "      <td>640653445632</td>\n",
       "      <td>[6406531484871]</td>\n",
       "      <td>6</td>\n",
       "      <td>6406531484871</td>\n",
       "      <td>MLT</td>\n",
       "      <td>6.0</td>\n",
       "    </tr>\n",
       "    <tr>\n",
       "      <th>187</th>\n",
       "      <td>640653445633</td>\n",
       "      <td>[6406531484876]</td>\n",
       "      <td>6</td>\n",
       "      <td>6406531484873</td>\n",
       "      <td>MLT</td>\n",
       "      <td>0.0</td>\n",
       "    </tr>\n",
       "    <tr>\n",
       "      <th>188</th>\n",
       "      <td>640653445634</td>\n",
       "      <td>[6406531484881]</td>\n",
       "      <td>6</td>\n",
       "      <td>6406531484881</td>\n",
       "      <td>MLT</td>\n",
       "      <td>6.0</td>\n",
       "    </tr>\n",
       "    <tr>\n",
       "      <th>189</th>\n",
       "      <td>640653445635</td>\n",
       "      <td>[6406531484882]</td>\n",
       "      <td>4</td>\n",
       "      <td>6406531484882</td>\n",
       "      <td>MLT</td>\n",
       "      <td>4.0</td>\n",
       "    </tr>\n",
       "    <tr>\n",
       "      <th>190</th>\n",
       "      <td>640653445636</td>\n",
       "      <td>[6406531484888]</td>\n",
       "      <td>6</td>\n",
       "      <td>6406531484888</td>\n",
       "      <td>MLT</td>\n",
       "      <td>6.0</td>\n",
       "    </tr>\n",
       "    <tr>\n",
       "      <th>191</th>\n",
       "      <td>640653445637</td>\n",
       "      <td>[6406531484889]</td>\n",
       "      <td>5</td>\n",
       "      <td>6406531484889</td>\n",
       "      <td>MLT</td>\n",
       "      <td>5.0</td>\n",
       "    </tr>\n",
       "    <tr>\n",
       "      <th>192</th>\n",
       "      <td>640653445638</td>\n",
       "      <td>[6406531484891, 6406531484892]</td>\n",
       "      <td>5</td>\n",
       "      <td>6406531484891,6406531484892</td>\n",
       "      <td>MLT</td>\n",
       "      <td>5.0</td>\n",
       "    </tr>\n",
       "    <tr>\n",
       "      <th>193</th>\n",
       "      <td>640653445639</td>\n",
       "      <td>[1]</td>\n",
       "      <td>7</td>\n",
       "      <td>1</td>\n",
       "      <td>MLT</td>\n",
       "      <td>7.0</td>\n",
       "    </tr>\n",
       "    <tr>\n",
       "      <th>194</th>\n",
       "      <td>640653445640</td>\n",
       "      <td>[24]</td>\n",
       "      <td>5</td>\n",
       "      <td>24</td>\n",
       "      <td>MLT</td>\n",
       "      <td>5.0</td>\n",
       "    </tr>\n",
       "    <tr>\n",
       "      <th>195</th>\n",
       "      <td>640653445641</td>\n",
       "      <td>[11]</td>\n",
       "      <td>6</td>\n",
       "      <td>11</td>\n",
       "      <td>MLT</td>\n",
       "      <td>6.0</td>\n",
       "    </tr>\n",
       "    <tr>\n",
       "      <th>196</th>\n",
       "      <td>640653445642</td>\n",
       "      <td>[0.3, 0.4]</td>\n",
       "      <td>4</td>\n",
       "      <td>0.33</td>\n",
       "      <td>MLT</td>\n",
       "      <td>4.0</td>\n",
       "    </tr>\n",
       "    <tr>\n",
       "      <th>197</th>\n",
       "      <td>640653445643</td>\n",
       "      <td>[6406531484900]</td>\n",
       "      <td>5</td>\n",
       "      <td>6406531484900</td>\n",
       "      <td>MLT</td>\n",
       "      <td>5.0</td>\n",
       "    </tr>\n",
       "    <tr>\n",
       "      <th>198</th>\n",
       "      <td>640653445645</td>\n",
       "      <td>[0]</td>\n",
       "      <td>2</td>\n",
       "      <td>0</td>\n",
       "      <td>MLT</td>\n",
       "      <td>2.0</td>\n",
       "    </tr>\n",
       "    <tr>\n",
       "      <th>199</th>\n",
       "      <td>640653445646</td>\n",
       "      <td>[0.92, 1.0]</td>\n",
       "      <td>3</td>\n",
       "      <td>0.97</td>\n",
       "      <td>MLT</td>\n",
       "      <td>3.0</td>\n",
       "    </tr>\n",
       "    <tr>\n",
       "      <th>200</th>\n",
       "      <td>640653445647</td>\n",
       "      <td>[0.8, 0.83]</td>\n",
       "      <td>3</td>\n",
       "      <td>0.811</td>\n",
       "      <td>MLT</td>\n",
       "      <td>3.0</td>\n",
       "    </tr>\n",
       "    <tr>\n",
       "      <th>201</th>\n",
       "      <td>640653445648</td>\n",
       "      <td>[0.62, 0.68]</td>\n",
       "      <td>3</td>\n",
       "      <td>0.650</td>\n",
       "      <td>MLT</td>\n",
       "      <td>3.0</td>\n",
       "    </tr>\n",
       "    <tr>\n",
       "      <th>202</th>\n",
       "      <td>640653445649</td>\n",
       "      <td>[0.21, 0.29]</td>\n",
       "      <td>3</td>\n",
       "      <td>0.256</td>\n",
       "      <td>MLT</td>\n",
       "      <td>3.0</td>\n",
       "    </tr>\n",
       "    <tr>\n",
       "      <th>203</th>\n",
       "      <td>640653445651</td>\n",
       "      <td>[0.5]</td>\n",
       "      <td>3</td>\n",
       "      <td>.5</td>\n",
       "      <td>MLT</td>\n",
       "      <td>3.0</td>\n",
       "    </tr>\n",
       "    <tr>\n",
       "      <th>204</th>\n",
       "      <td>640653445652</td>\n",
       "      <td>[1]</td>\n",
       "      <td>5</td>\n",
       "      <td>1</td>\n",
       "      <td>MLT</td>\n",
       "      <td>5.0</td>\n",
       "    </tr>\n",
       "  </tbody>\n",
       "</table>\n",
       "</div>"
      ],
      "text/plain": [
       "      Question Id                         Answers Correct Marks  \\\n",
       "183  640653445629                 [6406531484861]             0   \n",
       "184  640653445630                 [6406531484865]             7   \n",
       "185  640653445631                 [6406531484870]             6   \n",
       "186  640653445632                 [6406531484871]             6   \n",
       "187  640653445633                 [6406531484876]             6   \n",
       "188  640653445634                 [6406531484881]             6   \n",
       "189  640653445635                 [6406531484882]             4   \n",
       "190  640653445636                 [6406531484888]             6   \n",
       "191  640653445637                 [6406531484889]             5   \n",
       "192  640653445638  [6406531484891, 6406531484892]             5   \n",
       "193  640653445639                             [1]             7   \n",
       "194  640653445640                            [24]             5   \n",
       "195  640653445641                            [11]             6   \n",
       "196  640653445642                      [0.3, 0.4]             4   \n",
       "197  640653445643                 [6406531484900]             5   \n",
       "198  640653445645                             [0]             2   \n",
       "199  640653445646                     [0.92, 1.0]             3   \n",
       "200  640653445647                     [0.8, 0.83]             3   \n",
       "201  640653445648                    [0.62, 0.68]             3   \n",
       "202  640653445649                    [0.21, 0.29]             3   \n",
       "203  640653445651                           [0.5]             3   \n",
       "204  640653445652                             [1]             5   \n",
       "\n",
       "                       My answer Subjects  Score  \n",
       "183                6406531484861      MLT    0.0  \n",
       "184                6406531484865      MLT    7.0  \n",
       "185                6406531484870      MLT    6.0  \n",
       "186                6406531484871      MLT    6.0  \n",
       "187                6406531484873      MLT    0.0  \n",
       "188                6406531484881      MLT    6.0  \n",
       "189                6406531484882      MLT    4.0  \n",
       "190                6406531484888      MLT    6.0  \n",
       "191                6406531484889      MLT    5.0  \n",
       "192  6406531484891,6406531484892      MLT    5.0  \n",
       "193                            1      MLT    7.0  \n",
       "194                           24      MLT    5.0  \n",
       "195                           11      MLT    6.0  \n",
       "196                         0.33      MLT    4.0  \n",
       "197                6406531484900      MLT    5.0  \n",
       "198                            0      MLT    2.0  \n",
       "199                         0.97      MLT    3.0  \n",
       "200                        0.811      MLT    3.0  \n",
       "201                        0.650      MLT    3.0  \n",
       "202                        0.256      MLT    3.0  \n",
       "203                           .5      MLT    3.0  \n",
       "204                            1      MLT    5.0  "
      ]
     },
     "execution_count": 101,
     "metadata": {},
     "output_type": "execute_result"
    }
   ],
   "source": [
    "df3[df3[\"Subjects\"]==\"MLT\"]"
   ]
  },
  {
   "cell_type": "code",
   "execution_count": 102,
   "metadata": {},
   "outputs": [],
   "source": [
    "df3[\"Correct Marks\"]=df3[\"Correct Marks\"].apply(float)"
   ]
  },
  {
   "cell_type": "code",
   "execution_count": 103,
   "metadata": {},
   "outputs": [],
   "source": [
    "report2=pd.DataFrame(df3.groupby(\"Subjects\")[[\"Correct Marks\",\"Score\"]].sum())"
   ]
  },
  {
   "cell_type": "code",
   "execution_count": 104,
   "metadata": {},
   "outputs": [],
   "source": [
    "report2[\"Percentage\"]=(report2[\"Score\"]*100/report2[\"Correct Marks\"]).round(2)"
   ]
  },
  {
   "cell_type": "code",
   "execution_count": 105,
   "metadata": {},
   "outputs": [
    {
     "data": {
      "text/html": [
       "<style type=\"text/css\">\n",
       "#T_ba405 thead {\n",
       "  background-color: #0dcaf0;\n",
       "  color: white;\n",
       "}\n",
       "#T_ba405_row0_col1, #T_ba405_row0_col2, #T_ba405_row1_col1, #T_ba405_row1_col2, #T_ba405_row2_col1, #T_ba405_row2_col2, #T_ba405_row3_col1, #T_ba405_row3_col2, #T_ba405_row4_col1, #T_ba405_row4_col2, #T_ba405_row5_col1, #T_ba405_row5_col2, #T_ba405_row6_col1, #T_ba405_row6_col2, #T_ba405_row7_col1, #T_ba405_row7_col2, #T_ba405_row8_col1, #T_ba405_row8_col2, #T_ba405_row10_col1, #T_ba405_row10_col2, #T_ba405_row11_col1, #T_ba405_row11_col2, #T_ba405_row12_col1, #T_ba405_row12_col2, #T_ba405_row13_col1, #T_ba405_row13_col2, #T_ba405_row14_col1, #T_ba405_row14_col2 {\n",
       "  color: red;\n",
       "}\n",
       "#T_ba405_row9_col1, #T_ba405_row9_col2 {\n",
       "  color: green;\n",
       "}\n",
       "</style>\n",
       "<table id=\"T_ba405\">\n",
       "  <thead>\n",
       "    <tr>\n",
       "      <th class=\"blank level0\" >&nbsp;</th>\n",
       "      <th id=\"T_ba405_level0_col0\" class=\"col_heading level0 col0\" >Total Marks</th>\n",
       "      <th id=\"T_ba405_level0_col1\" class=\"col_heading level0 col1\" >Scored</th>\n",
       "      <th id=\"T_ba405_level0_col2\" class=\"col_heading level0 col2\" >Percentage</th>\n",
       "    </tr>\n",
       "    <tr>\n",
       "      <th class=\"index_name level0\" >Subjects</th>\n",
       "      <th class=\"blank col0\" >&nbsp;</th>\n",
       "      <th class=\"blank col1\" >&nbsp;</th>\n",
       "      <th class=\"blank col2\" >&nbsp;</th>\n",
       "    </tr>\n",
       "  </thead>\n",
       "  <tbody>\n",
       "    <tr>\n",
       "      <th id=\"T_ba405_level0_row0\" class=\"row_heading level0 row0\" >AppDev1</th>\n",
       "      <td id=\"T_ba405_row0_col0\" class=\"data row0 col0\" >50.00</td>\n",
       "      <td id=\"T_ba405_row0_col1\" class=\"data row0 col1\" >0.00</td>\n",
       "      <td id=\"T_ba405_row0_col2\" class=\"data row0 col2\" >0.00%</td>\n",
       "    </tr>\n",
       "    <tr>\n",
       "      <th id=\"T_ba405_level0_row1\" class=\"row_heading level0 row1\" >AppDev2</th>\n",
       "      <td id=\"T_ba405_row1_col0\" class=\"data row1 col0\" >50.00</td>\n",
       "      <td id=\"T_ba405_row1_col1\" class=\"data row1 col1\" >0.00</td>\n",
       "      <td id=\"T_ba405_row1_col2\" class=\"data row1 col2\" >0.00%</td>\n",
       "    </tr>\n",
       "    <tr>\n",
       "      <th id=\"T_ba405_level0_row2\" class=\"row_heading level0 row2\" >BDM</th>\n",
       "      <td id=\"T_ba405_row2_col0\" class=\"data row2 col0\" >16.00</td>\n",
       "      <td id=\"T_ba405_row2_col1\" class=\"data row2 col1\" >0.00</td>\n",
       "      <td id=\"T_ba405_row2_col2\" class=\"data row2 col2\" >0.00%</td>\n",
       "    </tr>\n",
       "    <tr>\n",
       "      <th id=\"T_ba405_level0_row3\" class=\"row_heading level0 row3\" >Business Analytics</th>\n",
       "      <td id=\"T_ba405_row3_col0\" class=\"data row3 col0\" >20.00</td>\n",
       "      <td id=\"T_ba405_row3_col1\" class=\"data row3 col1\" >0.00</td>\n",
       "      <td id=\"T_ba405_row3_col2\" class=\"data row3 col2\" >0.00%</td>\n",
       "    </tr>\n",
       "    <tr>\n",
       "      <th id=\"T_ba405_level0_row4\" class=\"row_heading level0 row4\" >CT</th>\n",
       "      <td id=\"T_ba405_row4_col0\" class=\"data row4 col0\" >50.00</td>\n",
       "      <td id=\"T_ba405_row4_col1\" class=\"data row4 col1\" >0.00</td>\n",
       "      <td id=\"T_ba405_row4_col2\" class=\"data row4 col2\" >0.00%</td>\n",
       "    </tr>\n",
       "    <tr>\n",
       "      <th id=\"T_ba405_level0_row5\" class=\"row_heading level0 row5\" >DBMS</th>\n",
       "      <td id=\"T_ba405_row5_col0\" class=\"data row5 col0\" >50.00</td>\n",
       "      <td id=\"T_ba405_row5_col1\" class=\"data row5 col1\" >0.00</td>\n",
       "      <td id=\"T_ba405_row5_col2\" class=\"data row5 col2\" >0.00%</td>\n",
       "    </tr>\n",
       "    <tr>\n",
       "      <th id=\"T_ba405_level0_row6\" class=\"row_heading level0 row6\" >Java</th>\n",
       "      <td id=\"T_ba405_row6_col0\" class=\"data row6 col0\" >50.00</td>\n",
       "      <td id=\"T_ba405_row6_col1\" class=\"data row6 col1\" >0.00</td>\n",
       "      <td id=\"T_ba405_row6_col2\" class=\"data row6 col2\" >0.00%</td>\n",
       "    </tr>\n",
       "    <tr>\n",
       "      <th id=\"T_ba405_level0_row7\" class=\"row_heading level0 row7\" >MLF</th>\n",
       "      <td id=\"T_ba405_row7_col0\" class=\"data row7 col0\" >50.00</td>\n",
       "      <td id=\"T_ba405_row7_col1\" class=\"data row7 col1\" >0.00</td>\n",
       "      <td id=\"T_ba405_row7_col2\" class=\"data row7 col2\" >0.00%</td>\n",
       "    </tr>\n",
       "    <tr>\n",
       "      <th id=\"T_ba405_level0_row8\" class=\"row_heading level0 row8\" >MLP</th>\n",
       "      <td id=\"T_ba405_row8_col0\" class=\"data row8 col0\" >50.00</td>\n",
       "      <td id=\"T_ba405_row8_col1\" class=\"data row8 col1\" >0.00</td>\n",
       "      <td id=\"T_ba405_row8_col2\" class=\"data row8 col2\" >0.00%</td>\n",
       "    </tr>\n",
       "    <tr>\n",
       "      <th id=\"T_ba405_level0_row9\" class=\"row_heading level0 row9\" >MLT</th>\n",
       "      <td id=\"T_ba405_row9_col0\" class=\"data row9 col0\" >100.00</td>\n",
       "      <td id=\"T_ba405_row9_col1\" class=\"data row9 col1\" >94.00</td>\n",
       "      <td id=\"T_ba405_row9_col2\" class=\"data row9 col2\" >94.00%</td>\n",
       "    </tr>\n",
       "    <tr>\n",
       "      <th id=\"T_ba405_level0_row10\" class=\"row_heading level0 row10\" >Maths2</th>\n",
       "      <td id=\"T_ba405_row10_col0\" class=\"data row10 col0\" >25.00</td>\n",
       "      <td id=\"T_ba405_row10_col1\" class=\"data row10 col1\" >0.00</td>\n",
       "      <td id=\"T_ba405_row10_col2\" class=\"data row10 col2\" >0.00%</td>\n",
       "    </tr>\n",
       "    <tr>\n",
       "      <th id=\"T_ba405_level0_row11\" class=\"row_heading level0 row11\" >PDSA</th>\n",
       "      <td id=\"T_ba405_row11_col0\" class=\"data row11 col0\" >50.00</td>\n",
       "      <td id=\"T_ba405_row11_col1\" class=\"data row11 col1\" >0.00</td>\n",
       "      <td id=\"T_ba405_row11_col2\" class=\"data row11 col2\" >0.00%</td>\n",
       "    </tr>\n",
       "    <tr>\n",
       "      <th id=\"T_ba405_level0_row12\" class=\"row_heading level0 row12\" >Programme Feedback</th>\n",
       "      <td id=\"T_ba405_row12_col0\" class=\"data row12 col0\" >15.50</td>\n",
       "      <td id=\"T_ba405_row12_col1\" class=\"data row12 col1\" >0.00</td>\n",
       "      <td id=\"T_ba405_row12_col2\" class=\"data row12 col2\" >0.00%</td>\n",
       "    </tr>\n",
       "    <tr>\n",
       "      <th id=\"T_ba405_level0_row13\" class=\"row_heading level0 row13\" >Statistics2</th>\n",
       "      <td id=\"T_ba405_row13_col0\" class=\"data row13 col0\" >40.00</td>\n",
       "      <td id=\"T_ba405_row13_col1\" class=\"data row13 col1\" >0.00</td>\n",
       "      <td id=\"T_ba405_row13_col2\" class=\"data row13 col2\" >0.00%</td>\n",
       "    </tr>\n",
       "    <tr>\n",
       "      <th id=\"T_ba405_level0_row14\" class=\"row_heading level0 row14\" >System commands</th>\n",
       "      <td id=\"T_ba405_row14_col0\" class=\"data row14 col0\" >100.00</td>\n",
       "      <td id=\"T_ba405_row14_col1\" class=\"data row14 col1\" >0.00</td>\n",
       "      <td id=\"T_ba405_row14_col2\" class=\"data row14 col2\" >0.00%</td>\n",
       "    </tr>\n",
       "  </tbody>\n",
       "</table>\n"
      ],
      "text/plain": [
       "<pandas.io.formats.style.Styler at 0x21755855160>"
      ]
     },
     "execution_count": 105,
     "metadata": {},
     "output_type": "execute_result"
    }
   ],
   "source": [
    "report2.columns=[\"Total Marks\",\"Scored\",\"Percentage\"]\n",
    "headers = {\n",
    "    'selector': 'thead',\n",
    "    'props': 'background-color: #0dcaf0; color: white;'\n",
    "}\n",
    "report2.style.applymap(lambda v: 'color:red;' if (v == 0) else 'color:green',subset=[\"Percentage\",\"Scored\"])\\\n",
    "    .set_table_styles([headers])\\\n",
    "    .format({\"Total Marks\":'{:.2f}',\"Scored\":'{:.2f}',\"Percentage\":'{0:,.2f}%'})"
   ]
  },
  {
   "cell_type": "code",
   "execution_count": 106,
   "metadata": {},
   "outputs": [
    {
     "data": {
      "text/html": [
       "<div>\n",
       "<style scoped>\n",
       "    .dataframe tbody tr th:only-of-type {\n",
       "        vertical-align: middle;\n",
       "    }\n",
       "\n",
       "    .dataframe tbody tr th {\n",
       "        vertical-align: top;\n",
       "    }\n",
       "\n",
       "    .dataframe thead th {\n",
       "        text-align: right;\n",
       "    }\n",
       "</style>\n",
       "<table border=\"1\" class=\"dataframe\">\n",
       "  <thead>\n",
       "    <tr style=\"text-align: right;\">\n",
       "      <th></th>\n",
       "      <th>Total Marks</th>\n",
       "      <th>Scored</th>\n",
       "      <th>Percentage</th>\n",
       "    </tr>\n",
       "    <tr>\n",
       "      <th>Subjects</th>\n",
       "      <th></th>\n",
       "      <th></th>\n",
       "      <th></th>\n",
       "    </tr>\n",
       "  </thead>\n",
       "  <tbody>\n",
       "    <tr>\n",
       "      <th>MLT</th>\n",
       "      <td>100.0</td>\n",
       "      <td>94.0</td>\n",
       "      <td>94.0</td>\n",
       "    </tr>\n",
       "  </tbody>\n",
       "</table>\n",
       "</div>"
      ],
      "text/plain": [
       "          Total Marks  Scored  Percentage\n",
       "Subjects                                 \n",
       "MLT             100.0    94.0        94.0"
      ]
     },
     "execution_count": 106,
     "metadata": {},
     "output_type": "execute_result"
    }
   ],
   "source": [
    "report2[report2[\"Percentage\"]>0]"
   ]
  },
  {
   "cell_type": "markdown",
   "metadata": {},
   "source": [
    "### Exporting dataframe as csv"
   ]
  },
  {
   "cell_type": "code",
   "execution_count": 107,
   "metadata": {},
   "outputs": [],
   "source": [
    "df3[df3[\"Subjects\"].isin(report2[report2[\"Percentage\"]>0].index)].to_csv(\"summary.csv\",index=False)\n",
    "report2[report2[\"Percentage\"]>0].to_csv(\"report_card.csv\")"
   ]
  },
  {
   "cell_type": "code",
   "execution_count": 108,
   "metadata": {},
   "outputs": [
    {
     "data": {
      "text/plain": [
       "279"
      ]
     },
     "execution_count": 108,
     "metadata": {},
     "output_type": "execute_result"
    }
   ],
   "source": []
  },
  {
   "cell_type": "code",
   "execution_count": 109,
   "metadata": {},
   "outputs": [
    {
     "data": {
      "text/plain": [
       "(277, 4)"
      ]
     },
     "execution_count": 109,
     "metadata": {},
     "output_type": "execute_result"
    }
   ],
   "source": [
    "df2.shape"
   ]
  },
  {
   "cell_type": "code",
   "execution_count": 110,
   "metadata": {},
   "outputs": [
    {
     "data": {
      "text/plain": [
       "(277, 4)"
      ]
     },
     "execution_count": 110,
     "metadata": {},
     "output_type": "execute_result"
    }
   ],
   "source": [
    "df2[-df2.shape[0]:].shape"
   ]
  },
  {
   "cell_type": "code",
   "execution_count": null,
   "metadata": {},
   "outputs": [],
   "source": []
  }
 ],
 "metadata": {
  "colab": {
   "collapsed_sections": [],
   "name": "PDF_Scraping-MBCopy.ipynb",
   "provenance": []
  },
  "kernelspec": {
   "display_name": "Python 3 (ipykernel)",
   "language": "python",
   "name": "python3"
  },
  "language_info": {
   "codemirror_mode": {
    "name": "ipython",
    "version": 3
   },
   "file_extension": ".py",
   "mimetype": "text/x-python",
   "name": "python",
   "nbconvert_exporter": "python",
   "pygments_lexer": "ipython3",
   "version": "3.9.12"
  }
 },
 "nbformat": 4,
 "nbformat_minor": 4
}
