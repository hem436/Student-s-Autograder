{
 "cells": [
  {
   "cell_type": "markdown",
   "metadata": {
    "id": "aCDpAf4EWQhO"
   },
   "source": [
    "## **Student's Autograder**\n",
    "This is a project to calculate quiz and term scores from q&a pdf and response pdf."
   ]
  },
  {
   "cell_type": "markdown",
   "metadata": {},
   "source": [
    "Whats left: \n",
    "\n",
    "* Editing pdf\n"
   ]
  },
  {
   "cell_type": "markdown",
   "metadata": {
    "id": "6V2_XMBIDFin"
   },
   "source": [
    "### Importing the required libraries "
   ]
  },
  {
   "cell_type": "code",
   "execution_count": null,
   "metadata": {
    "id": "AJWhrjFBs-wV",
    "tags": []
   },
   "outputs": [],
   "source": [
    "import os\n",
    "import pandas as pd\n",
    "import numpy as np\n",
    "import tabula\n",
    "from ipywidgets import widgets\n",
    "from PyPDF2 import PdfFileReader, PdfFileWriter\n",
    "from PyPDF2.generic import DecodedStreamObject, EncodedStreamObject,ArrayObject"
   ]
  },
  {
   "cell_type": "code",
   "execution_count": null,
   "metadata": {},
   "outputs": [],
   "source": [
    "#debugging for notebooks current directory for reading files later.\n",
    "import os\n",
    "os.getcwd()"
   ]
  },
  {
   "cell_type": "markdown",
   "metadata": {
    "id": "wE0xdNo6DSQE"
   },
   "source": [
    "### Reading pdfs"
   ]
  },
  {
   "cell_type": "code",
   "execution_count": null,
   "metadata": {},
   "outputs": [],
   "source": [
    "# Enter response pdf name\n",
    "resp_pdf = \"POD22S1C21530041.pdf\"\n",
    "\n",
    "#POD22S1C11500062.pdf\n",
    "\n",
    "#Enter corresponding question and answer key pdf name\n",
    "qa_pdf = \"IIT M DIPLOMA FN2 EXAM ETD2.pdf\"\n",
    "\n",
    "#IIT M DAD DIPLOMA AN2 EXAM QPD1.pdf\n"
   ]
  },
  {
   "cell_type": "code",
   "execution_count": null,
   "metadata": {
    "colab": {
     "base_uri": "https://localhost:8080/"
    },
    "executionInfo": {
     "elapsed": 68881,
     "status": "ok",
     "timestamp": 1660199975340,
     "user": {
      "displayName": "Mahesh Balan U",
      "userId": "03222065794003590393"
     },
     "user_tz": -330
    },
    "id": "dPLWR7pj20Be",
    "outputId": "b5dab9a7-ee46-4620-c547-1e4c84deea3b"
   },
   "outputs": [],
   "source": [
    "filename=qa_pdf"
   ]
  },
  {
   "cell_type": "markdown",
   "metadata": {},
   "source": [
    "### Variables initialization"
   ]
  },
  {
   "cell_type": "code",
   "execution_count": null,
   "metadata": {},
   "outputs": [],
   "source": [
    "resp_qid=\"Question Id\"\n",
    "my_answer=\"Options Selected\"\n",
    "unanswered=\"Unanswered\"\n",
    "file_qid=\"Question Id\""
   ]
  },
  {
   "cell_type": "markdown",
   "metadata": {
    "id": "4E6nPj3HWpPu"
   },
   "source": [
    "Students response for exam dataframe"
   ]
  },
  {
   "cell_type": "code",
   "execution_count": null,
   "metadata": {
    "colab": {
     "base_uri": "https://localhost:8080/"
    },
    "executionInfo": {
     "elapsed": 1052,
     "status": "ok",
     "timestamp": 1655457666437,
     "user": {
      "displayName": "Mahesh Balan U",
      "userId": "03222065794003590393"
     },
     "user_tz": -330
    },
    "id": "NnC5kExD9z2P",
    "outputId": "77a8edeb-45ce-4522-d427-b9ec8153d16b"
   },
   "outputs": [],
   "source": [
    "rpdf_df=PdfFileReader(resp_pdf)"
   ]
  },
  {
   "cell_type": "code",
   "execution_count": null,
   "metadata": {
    "colab": {
     "base_uri": "https://localhost:8080/"
    },
    "executionInfo": {
     "elapsed": 1052,
     "status": "ok",
     "timestamp": 1655457666437,
     "user": {
      "displayName": "Mahesh Balan U",
      "userId": "03222065794003590393"
     },
     "user_tz": -330
    },
    "id": "NnC5kExD9z2P",
    "outputId": "77a8edeb-45ce-4522-d427-b9ec8153d16b"
   },
   "outputs": [],
   "source": [
    "#Updated response pdf reading method from tabula to raw \n",
    "myans=[]\n",
    "for i in range(rpdf_df.getNumPages()):\n",
    "    myans+=(rpdf_df.pages[i].extractText().split(\"\\n\"))\n",
    "myans=myans[myans.index(resp_qid):]\n",
    "myans=pd.DataFrame(np.vstack((myans[2::2],myans[3::2])).T,columns=[myans[0],myans[1]])\n",
    "myans[resp_qid]=myans[resp_qid].apply(int)\n",
    "myans"
   ]
  },
  {
   "cell_type": "code",
   "execution_count": null,
   "metadata": {},
   "outputs": [],
   "source": [
    "# with pd.option_context(\"display.max_rows\",None):\n",
    "#     print(df3)"
   ]
  },
  {
   "cell_type": "markdown",
   "metadata": {
    "colab": {
     "base_uri": "https://localhost:8080/"
    },
    "executionInfo": {
     "elapsed": 5,
     "status": "ok",
     "timestamp": 1655464208192,
     "user": {
      "displayName": "Mahesh Balan U",
      "userId": "03222065794003590393"
     },
     "user_tz": -330
    },
    "id": "WPzDcsX-Wwpf",
    "outputId": "3785d44b-c29c-4252-9688-1d6082f57551"
   },
   "source": [
    "### Useful functions"
   ]
  },
  {
   "cell_type": "code",
   "execution_count": null,
   "metadata": {},
   "outputs": [],
   "source": [
    "def gentextarr(content):\n",
    "    \"\"\"\n",
    "    Returns an array of text block properties of pdf\n",
    "    Parameter:\n",
    "        content: string object of page content obtained by page.getContents().getData().decode() \n",
    "    \"\"\"\n",
    "    lines = content.splitlines()\n",
    "    result = []\n",
    "    in_text = False\n",
    "    for line in lines:\n",
    "        if line == \"BT\":\n",
    "            in_text = True\n",
    "            temp=[]\n",
    "\n",
    "        elif line == \"ET\":\n",
    "            in_text = False\n",
    "            result.append(temp)\n",
    "            temp=[]\n",
    "\n",
    "        elif in_text:\n",
    "            if line[-2:].lower()==\"tj\" or line[-2:].lower()==\"tf\" or line[-2:].lower()==\"rg\":\n",
    "                temp.append(line[:])\n",
    "    return result\n",
    "\n",
    "def gen_cmap(font,pg):\n",
    "    \"\"\"\n",
    "    Returns a character map dictionary of a pdf 'filename' page 'pg' and font \n",
    "    Parameter:\n",
    "     font: font key name in meta properties of pdf.\n",
    "     pg: int page number of pdf\n",
    "    \"\"\"\n",
    "    # pdf = PdfFileReader(filename)\n",
    "    # page = pdf.getPage(pg)\n",
    "    page=pg\n",
    "    temp=False\n",
    "    cmap={}\n",
    "    for i in (page.getObject()['/Resources']['/Font'][font]['/ToUnicode'].getObject().getData().decode().split('\\n')):\n",
    "        if \"endbfrange\" in i:\n",
    "            temp=False\n",
    "        if temp:\n",
    "            cmap[i[1:5]]=i[-5:-1]\n",
    "        if \"beginbfrange\" in i:\n",
    "            temp=True\n",
    "    return cmap\n",
    "\n",
    "def font_decoder(text,cmap):\n",
    "    \"\"\"\n",
    "    Returns decoded word from pdf text hex code. \n",
    "    \"\"\"\n",
    "\n",
    "    count=0\n",
    "    word=\"\"\n",
    "    temp=\"\"\n",
    "    for i in text:\n",
    "        count+=1\n",
    "        if count==4:\n",
    "            temp+=i\n",
    "            word+=chr(int(cmap.get(temp.lower(),temp.lower()),16))\n",
    "            temp=\"\"\n",
    "            count=0\n",
    "        else:\n",
    "            temp+=i\n",
    "    return word\n"
   ]
  },
  {
   "cell_type": "code",
   "execution_count": null,
   "metadata": {},
   "outputs": [],
   "source": []
  },
  {
   "cell_type": "markdown",
   "metadata": {},
   "source": [
    "## PDF Content"
   ]
  },
  {
   "cell_type": "code",
   "execution_count": null,
   "metadata": {},
   "outputs": [],
   "source": [
    "\"\"\"\n",
    "This piece of code extracts question answer pdf text content as well as correct answer key.\n",
    "\"\"\"\n",
    "pdf = PdfFileReader(filename)\n",
    "sum=0\n",
    "df=[[file_qid,\"Correct Marks\",\"Answers\"]]\n",
    "m_bool=False\n",
    "marks=\"\"\n",
    "ans_bool=False\n",
    "ans=\"\"\n",
    "row=[]\n",
    "temp=[]\n",
    "s_head=[]\n",
    "temp_head=\"\"\n",
    "ishead=False\n",
    "for p in range(0,pdf.getNumPages()):\n",
    "    content=pdf.pages[p].getContents()\n",
    "    #a different type content\n",
    "    if type(content)==ArrayObject:\n",
    "        m=\"\"\n",
    "        for n in content:\n",
    "            m+=n.getObject().getData().decode()\n",
    "        content=m\n",
    "    elif type(content)==EncodedStreamObject or type(content)==DecodedStreamObject:\n",
    "        content=content.getData().decode()\n",
    "    for i in gentextarr(content):\n",
    "        text=\"\"\n",
    "        ans_bool=False\n",
    "        for j in i:\n",
    "            # getting character map for a font type\n",
    "            if j[-2:].lower()==\"tf\":\n",
    "                cmap=gen_cmap(j.split()[0],pdf.pages[p])\n",
    "                #checking for subject headings with font size =18\n",
    "                if j.split()[1]==\"18\":\n",
    "                    ishead=True\n",
    "            # checking green color as ind of correctness        \n",
    "            if j==\"0 0.50196 0 rg\" and len(row)>1:\n",
    "                ans_bool=True\n",
    "    \n",
    "            elif j[-2:].lower()==\"tj\":\n",
    "                text=font_decoder(j[1:-3],cmap)\n",
    "                if ishead:\n",
    "                    ishead=False\n",
    "                    temp_head=text\n",
    "                \n",
    "                if (not m_bool) and (not ans_bool):\n",
    "                    # checking for question id\n",
    "                    if str(file_qid) in text:\n",
    "                        if len(temp)>0:\n",
    "                            row.append(temp)\n",
    "                            df.append(row)\n",
    "                        row=[]\n",
    "                        temp=[]\n",
    "                        if text.split()[7].isnumeric():\n",
    "                            s_head.append(temp_head)\n",
    "                            row=[text.split()[7]]\n",
    "                            m_bool=True\n",
    "                    \n",
    "                # extracting marks\n",
    "                elif m_bool:\n",
    "                    if \"Correct Marks\" in text:\n",
    "                        # appending to heading list if marks is 0\n",
    "                        # if text.split()[-1]==\"0\":\n",
    "                        #     s_head.append(temp_head)\n",
    "                        if len(row)==1:\n",
    "                            row.append(text.split()[3])\n",
    "                        m_bool=False\n",
    "                        \n",
    "                #extracting answer key\n",
    "                elif ans_bool:\n",
    "                    if text!=\" \":\n",
    "                        if len(text)>=13 and text[:13].isnumeric():\n",
    "                            temp.append(text[:13])\n",
    "                        elif len(text.split())==3 and \"to\" in text.split()[1]:\n",
    "                            t=text.split()\n",
    "                            if not(t[0].isalpha() or t[-1].isalpha()):\n",
    "                                temp=[float(t[0]),float(t[-1])]\n",
    "                        elif len(temp)==0:\n",
    "                            temp.append(text)\n",
    "if len(temp)>=1:\n",
    "    # s_head.append(temp_head)\n",
    "    row.append(temp)\n",
    "    df.append(row)"
   ]
  },
  {
   "cell_type": "code",
   "execution_count": null,
   "metadata": {},
   "outputs": [],
   "source": [
    "print(len(df))\n",
    "df[1]"
   ]
  },
  {
   "cell_type": "code",
   "execution_count": null,
   "metadata": {},
   "outputs": [],
   "source": [
    "df2=pd.DataFrame(df[1:],columns=df[0])\n",
    "df2[file_qid]=df2[file_qid].apply(int)\n",
    "df2[\"Subjects\"]=np.array(s_head[-df2.shape[0]:])\n",
    "df2=df2.sort_values([file_qid])\n",
    "# df2[df2[\"Subjects\"]==\"MLT\"][\"Correct Marks\"].apply(float).sum()"
   ]
  },
  {
   "cell_type": "code",
   "execution_count": null,
   "metadata": {
    "tags": []
   },
   "outputs": [],
   "source": [
    "def evaluate(df2):\n",
    "    \n",
    "    #Multi option\n",
    "    df2['Score'] = df2.apply(lambda x: (len(set(x[\"My answer\"].split(\",\"))\\\n",
    "                                            .intersection(set(x[\"Answers\"])))/len(x[\"Answers\"]))*float(x['Correct Marks'])\\\n",
    "                             if type(x[\"Answers\"][0])==str and len(x[\"Answers\"][0])==13 and\\\n",
    "                                len(set(x[\"My answer\"].split(\",\")))<=len(set(x[\"Answers\"])) and\\\n",
    "                                set(x[\"My answer\"].split(\",\")).issubset(set(x[\"Answers\"]))\\\n",
    "                             else x[\"Score\"], axis=1)\n",
    "    #integer ranged\n",
    "    df2['Score'] = df2.apply(lambda x: float(x['Correct Marks'])\\\n",
    "                             if len(x[\"My answer\"])<13 and len(x[\"My answer\"])>0 and\\\n",
    "                                len(x['Answers'])>=1 and\\\n",
    "                                float(x['My answer']) >= float(x[\"Answers\"][0]) and\\\n",
    "                                float(x['My answer']) <= float(x[\"Answers\"][-1])\\\n",
    "                             else x[\"Score\"], axis=1)\n",
    "    return df2"
   ]
  },
  {
   "cell_type": "markdown",
   "metadata": {},
   "source": [
    "## Final score"
   ]
  },
  {
   "cell_type": "markdown",
   "metadata": {},
   "source": [
    "### Method 1: using index of 0 correct marks"
   ]
  },
  {
   "cell_type": "code",
   "execution_count": null,
   "metadata": {},
   "outputs": [],
   "source": [
    "# s_index=df3[df3[\"Correct Marks\"]==\"0\"].index\n",
    "# s_index"
   ]
  },
  {
   "cell_type": "code",
   "execution_count": null,
   "metadata": {},
   "outputs": [],
   "source": [
    "# subjects={}\n",
    "# for i in range(len(s_index)):\n",
    "#     if i==len(s_index)-1:\n",
    "#         subjects[df3[\"Subjects\"][s_index[i]]]=df3.iloc[s_index[i]:]\n",
    "#     else:\n",
    "#         subjects[df3[\"Subjects\"][s_index[i]]]=df3.iloc[s_index[i]:s_index[i+1]]\n",
    "# subjects.keys()"
   ]
  },
  {
   "cell_type": "code",
   "execution_count": null,
   "metadata": {},
   "outputs": [],
   "source": [
    "# reports=[]\n",
    "# for i in subjects.values():\n",
    "#     print(i[\"Correct Marks\"].apply(float).values)\n",
    "#     reports.append([i[\"Subjects\"].unique()[0],i[\"Correct Marks\"].apply(float).values.sum(),i[\"Score\"].sum()])\n",
    "# for i in reports:\n",
    "#     print(i[0],\":\",i[2]/i[1]*100,\"%\")"
   ]
  },
  {
   "cell_type": "code",
   "execution_count": null,
   "metadata": {},
   "outputs": [],
   "source": [
    "# with pd.option_context(\"display.max_rows\",None):\n",
    "#     display(df)"
   ]
  },
  {
   "cell_type": "markdown",
   "metadata": {},
   "source": [
    "### Method 2: Using groupby function"
   ]
  },
  {
   "cell_type": "code",
   "execution_count": null,
   "metadata": {},
   "outputs": [],
   "source": [
    "df3=df2.set_index(file_qid).combine_first(myans.set_index(resp_qid)).reset_index().replace([myans.values[0][1],np.NAN],\"\")"
   ]
  },
  {
   "cell_type": "code",
   "execution_count": null,
   "metadata": {},
   "outputs": [],
   "source": [
    "df3.columns=[\"Question Id\",\"Answers\",\"Correct Marks\",\"My answer\",\"Subjects\" ]\n",
    "df3[\"Score\"]=np.zeros(df3.shape[0])\n",
    "df3=evaluate(df3)"
   ]
  },
  {
   "cell_type": "code",
   "execution_count": null,
   "metadata": {},
   "outputs": [],
   "source": [
    "df3[\"Correct Marks\"]=df3[\"Correct Marks\"].apply(float)"
   ]
  },
  {
   "cell_type": "code",
   "execution_count": null,
   "metadata": {},
   "outputs": [],
   "source": [
    "with pd.option_context(\"display.max_rows\",None):\n",
    "    display(df3[df3[\"Subjects\"].isin(df3[df3[\"My answer\"]!=\"\"][\"Subjects\"].unique())])\n"
   ]
  },
  {
   "cell_type": "code",
   "execution_count": null,
   "metadata": {},
   "outputs": [],
   "source": [
    "report2=pd.DataFrame(df3.groupby(\"Subjects\")[[\"Correct Marks\",\"Score\"]].sum())"
   ]
  },
  {
   "cell_type": "code",
   "execution_count": null,
   "metadata": {},
   "outputs": [],
   "source": [
    "report2[\"Percentage\"]=(report2[\"Score\"]*100/report2[\"Correct Marks\"]).round(2)"
   ]
  },
  {
   "cell_type": "code",
   "execution_count": null,
   "metadata": {},
   "outputs": [],
   "source": [
    "report2.columns=[\"Total Marks\",\"Scored\",\"Percentage\"]\n",
    "headers = {\n",
    "    'selector': 'thead',\n",
    "    'props': 'background-color: #0dcaf0; color: white;'\n",
    "}\n",
    "report2.style.applymap(lambda v: 'color:red;' if (v == 0) else 'color:green',subset=[\"Percentage\",\"Scored\"])\\\n",
    "    .set_table_styles([headers])\\\n",
    "    .format({\"Total Marks\":'{:.2f}',\"Scored\":'{:.2f}',\"Percentage\":'{0:,.2f}%'})"
   ]
  },
  {
   "cell_type": "code",
   "execution_count": null,
   "metadata": {},
   "outputs": [],
   "source": [
    "report2[report2[\"Percentage\"]>0]"
   ]
  },
  {
   "cell_type": "markdown",
   "metadata": {},
   "source": [
    "### Exporting dataframe as csv"
   ]
  },
  {
   "cell_type": "code",
   "execution_count": null,
   "metadata": {},
   "outputs": [],
   "source": [
    "df3[df3[\"Subjects\"].isin(report2[report2[\"Percentage\"]>0].index)].to_csv(\"summary.csv\",index=False)\n",
    "report2[report2[\"Percentage\"]>0].to_csv(\"report_card.csv\")"
   ]
  },
  {
   "cell_type": "code",
   "execution_count": null,
   "metadata": {},
   "outputs": [],
   "source": []
  },
  {
   "cell_type": "code",
   "execution_count": null,
   "metadata": {},
   "outputs": [],
   "source": []
  }
 ],
 "metadata": {
  "colab": {
   "collapsed_sections": [],
   "name": "PDF_Scraping-MBCopy.ipynb",
   "provenance": []
  },
  "kernelspec": {
   "display_name": "Python 3 (ipykernel)",
   "language": "python",
   "name": "python3"
  },
  "language_info": {
   "codemirror_mode": {
    "name": "ipython",
    "version": 3
   },
   "file_extension": ".py",
   "mimetype": "text/x-python",
   "name": "python",
   "nbconvert_exporter": "python",
   "pygments_lexer": "ipython3",
   "version": "3.9.13"
  }
 },
 "nbformat": 4,
 "nbformat_minor": 4
}
